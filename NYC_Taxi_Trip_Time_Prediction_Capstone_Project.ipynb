{
  "nbformat": 4,
  "nbformat_minor": 0,
  "metadata": {
    "colab": {
      "name": "NYC Taxi Trip Time Prediction - Capstone Project.ipynb",
      "provenance": [],
      "collapsed_sections": [],
      "include_colab_link": true
    },
    "kernelspec": {
      "display_name": "Python 3",
      "language": "python",
      "name": "python3"
    },
    "language_info": {
      "codemirror_mode": {
        "name": "ipython",
        "version": 3
      },
      "file_extension": ".py",
      "mimetype": "text/x-python",
      "name": "python",
      "nbconvert_exporter": "python",
      "pygments_lexer": "ipython3",
      "version": "3.6.6"
    }
  },
  "cells": [
    {
      "cell_type": "markdown",
      "metadata": {
        "id": "view-in-github",
        "colab_type": "text"
      },
      "source": [
        "<a href=\"https://colab.research.google.com/github/yasheshgupta/NYC-Taxi-Trip-Time-Prediction/blob/main/NYC_Taxi_Trip_Time_Prediction_Capstone_Project.ipynb\" target=\"_parent\"><img src=\"https://colab.research.google.com/assets/colab-badge.svg\" alt=\"Open In Colab\"/></a>"
      ]
    },
    {
      "cell_type": "markdown",
      "metadata": {
        "id": "tOGC-qoyhJeX"
      },
      "source": [
        "# <b><u> Project Title : Taxi trip time Prediction : Predicting total ride duration of taxi trips in New York City</u></b>"
      ]
    },
    {
      "cell_type": "markdown",
      "metadata": {
        "id": "Y06xIdG26kRF"
      },
      "source": [
        "## <b> Problem Description </b>\n",
        "\n",
        "### Your task is to build a model that predicts the total ride duration of taxi trips in New York City. Your primary dataset is one released by the NYC Taxi and Limousine Commission, which includes pickup time, geo-coordinates, number of passengers, and several other variables."
      ]
    },
    {
      "cell_type": "markdown",
      "metadata": {
        "id": "WWeU1f9bwqQq"
      },
      "source": [
        "## <b> Data Description </b>\n",
        "\n",
        "### The dataset is based on the 2016 NYC Yellow Cab trip record data made available in Big Query on Google Cloud Platform. The data was originally published by the NYC Taxi and Limousine Commission (TLC). The data was sampled and cleaned for the purposes of this project. Based on individual trip attributes, you should predict the duration of each trip in the test set.\n",
        "\n",
        "### <b>NYC Taxi Data.csv</b> - the training set (contains 1458644 trip records)\n",
        "\n",
        "\n",
        "### Data fields\n",
        "* #### id - a unique identifier for each trip\n",
        "* #### vendor_id - a code indicating the provider associated with the trip record\n",
        "* #### pickup_datetime - date and time when the meter was engaged\n",
        "* #### dropoff_datetime - date and time when the meter was disengaged\n",
        "* #### passenger_count - the number of passengers in the vehicle (driver entered value)\n",
        "* #### pickup_longitude - the longitude where the meter was engaged\n",
        "* #### pickup_latitude - the latitude where the meter was engaged\n",
        "* #### dropoff_longitude - the longitude where the meter was disengaged\n",
        "* #### dropoff_latitude - the latitude where the meter was disengaged\n",
        "* #### store_and_fwd_flag - This flag indicates whether the trip record was held in vehicle memory before sending to the vendor because the vehicle did not have a connection to the server - Y=store and forward; N=not a store and forward trip\n",
        "* #### trip_duration - duration of the trip in seconds"
      ]
    },
    {
      "cell_type": "code",
      "metadata": {
        "colab": {
          "base_uri": "https://localhost:8080/"
        },
        "id": "KvFaMWyv-icH",
        "outputId": "63589d9f-67c2-45f2-d3b5-219f7aefa75e"
      },
      "source": [
        "from google.colab import drive\n",
        "drive.mount('/content/drive')"
      ],
      "execution_count": null,
      "outputs": [
        {
          "output_type": "stream",
          "name": "stdout",
          "text": [
            "Mounted at /content/drive\n"
          ]
        }
      ]
    },
    {
      "cell_type": "code",
      "metadata": {
        "id": "f6cZvmfb_CVG"
      },
      "source": [
        "import numpy as np \n",
        "import pandas as pd \n",
        "import math\n",
        "import matplotlib.pyplot as plt\n",
        "import seaborn as sns\n",
        "import datetime\n",
        "from sklearn.preprocessing import MinMaxScaler\n",
        "from sklearn.linear_model import LinearRegression"
      ],
      "execution_count": null,
      "outputs": []
    },
    {
      "cell_type": "code",
      "metadata": {
        "id": "m1UhssBW-rzK"
      },
      "source": [
        "dir_path=\"/content/drive/MyDrive/NYC Taxi Trip Time Prediction/NYC Taxi Data.csv\""
      ],
      "execution_count": null,
      "outputs": []
    },
    {
      "cell_type": "code",
      "metadata": {
        "id": "FEXatDDa-sPN"
      },
      "source": [
        "df= pd.read_csv(dir_path)"
      ],
      "execution_count": null,
      "outputs": []
    },
    {
      "cell_type": "code",
      "metadata": {
        "colab": {
          "base_uri": "https://localhost:8080/",
          "height": 204
        },
        "id": "1ee-LJYR_Nzl",
        "outputId": "601675f8-8c3b-4eb7-d3d2-f2940772a373"
      },
      "source": [
        "df.head()"
      ],
      "execution_count": null,
      "outputs": [
        {
          "output_type": "execute_result",
          "data": {
            "text/html": [
              "<div>\n",
              "<style scoped>\n",
              "    .dataframe tbody tr th:only-of-type {\n",
              "        vertical-align: middle;\n",
              "    }\n",
              "\n",
              "    .dataframe tbody tr th {\n",
              "        vertical-align: top;\n",
              "    }\n",
              "\n",
              "    .dataframe thead th {\n",
              "        text-align: right;\n",
              "    }\n",
              "</style>\n",
              "<table border=\"1\" class=\"dataframe\">\n",
              "  <thead>\n",
              "    <tr style=\"text-align: right;\">\n",
              "      <th></th>\n",
              "      <th>id</th>\n",
              "      <th>vendor_id</th>\n",
              "      <th>pickup_datetime</th>\n",
              "      <th>dropoff_datetime</th>\n",
              "      <th>passenger_count</th>\n",
              "      <th>pickup_longitude</th>\n",
              "      <th>pickup_latitude</th>\n",
              "      <th>dropoff_longitude</th>\n",
              "      <th>dropoff_latitude</th>\n",
              "      <th>store_and_fwd_flag</th>\n",
              "      <th>trip_duration</th>\n",
              "    </tr>\n",
              "  </thead>\n",
              "  <tbody>\n",
              "    <tr>\n",
              "      <th>0</th>\n",
              "      <td>id2875421</td>\n",
              "      <td>2</td>\n",
              "      <td>2016-03-14 17:24:55</td>\n",
              "      <td>2016-03-14 17:32:30</td>\n",
              "      <td>1</td>\n",
              "      <td>-73.982155</td>\n",
              "      <td>40.767937</td>\n",
              "      <td>-73.964630</td>\n",
              "      <td>40.765602</td>\n",
              "      <td>N</td>\n",
              "      <td>455</td>\n",
              "    </tr>\n",
              "    <tr>\n",
              "      <th>1</th>\n",
              "      <td>id2377394</td>\n",
              "      <td>1</td>\n",
              "      <td>2016-06-12 00:43:35</td>\n",
              "      <td>2016-06-12 00:54:38</td>\n",
              "      <td>1</td>\n",
              "      <td>-73.980415</td>\n",
              "      <td>40.738564</td>\n",
              "      <td>-73.999481</td>\n",
              "      <td>40.731152</td>\n",
              "      <td>N</td>\n",
              "      <td>663</td>\n",
              "    </tr>\n",
              "    <tr>\n",
              "      <th>2</th>\n",
              "      <td>id3858529</td>\n",
              "      <td>2</td>\n",
              "      <td>2016-01-19 11:35:24</td>\n",
              "      <td>2016-01-19 12:10:48</td>\n",
              "      <td>1</td>\n",
              "      <td>-73.979027</td>\n",
              "      <td>40.763939</td>\n",
              "      <td>-74.005333</td>\n",
              "      <td>40.710087</td>\n",
              "      <td>N</td>\n",
              "      <td>2124</td>\n",
              "    </tr>\n",
              "    <tr>\n",
              "      <th>3</th>\n",
              "      <td>id3504673</td>\n",
              "      <td>2</td>\n",
              "      <td>2016-04-06 19:32:31</td>\n",
              "      <td>2016-04-06 19:39:40</td>\n",
              "      <td>1</td>\n",
              "      <td>-74.010040</td>\n",
              "      <td>40.719971</td>\n",
              "      <td>-74.012268</td>\n",
              "      <td>40.706718</td>\n",
              "      <td>N</td>\n",
              "      <td>429</td>\n",
              "    </tr>\n",
              "    <tr>\n",
              "      <th>4</th>\n",
              "      <td>id2181028</td>\n",
              "      <td>2</td>\n",
              "      <td>2016-03-26 13:30:55</td>\n",
              "      <td>2016-03-26 13:38:10</td>\n",
              "      <td>1</td>\n",
              "      <td>-73.973053</td>\n",
              "      <td>40.793209</td>\n",
              "      <td>-73.972923</td>\n",
              "      <td>40.782520</td>\n",
              "      <td>N</td>\n",
              "      <td>435</td>\n",
              "    </tr>\n",
              "  </tbody>\n",
              "</table>\n",
              "</div>"
            ],
            "text/plain": [
              "          id  vendor_id  ... store_and_fwd_flag trip_duration\n",
              "0  id2875421          2  ...                  N           455\n",
              "1  id2377394          1  ...                  N           663\n",
              "2  id3858529          2  ...                  N          2124\n",
              "3  id3504673          2  ...                  N           429\n",
              "4  id2181028          2  ...                  N           435\n",
              "\n",
              "[5 rows x 11 columns]"
            ]
          },
          "metadata": {},
          "execution_count": 5
        }
      ]
    },
    {
      "cell_type": "code",
      "metadata": {
        "colab": {
          "base_uri": "https://localhost:8080/"
        },
        "id": "HmTB_XbDjVvm",
        "outputId": "f003dacc-1a4a-4255-fd59-9bf280e422bf"
      },
      "source": [
        "# Check for null values\n",
        "df.isnull().sum()"
      ],
      "execution_count": null,
      "outputs": [
        {
          "output_type": "execute_result",
          "data": {
            "text/plain": [
              "id                    0\n",
              "vendor_id             0\n",
              "pickup_datetime       0\n",
              "dropoff_datetime      0\n",
              "passenger_count       0\n",
              "pickup_longitude      0\n",
              "pickup_latitude       0\n",
              "dropoff_longitude     0\n",
              "dropoff_latitude      0\n",
              "store_and_fwd_flag    0\n",
              "trip_duration         0\n",
              "dtype: int64"
            ]
          },
          "metadata": {},
          "execution_count": 6
        }
      ]
    },
    {
      "cell_type": "code",
      "metadata": {
        "colab": {
          "base_uri": "https://localhost:8080/"
        },
        "id": "JXaC7FJQ_Nr7",
        "outputId": "1253787a-bf0b-4ca7-b1cd-35f549540ba8"
      },
      "source": [
        "df.info()"
      ],
      "execution_count": null,
      "outputs": [
        {
          "output_type": "stream",
          "name": "stdout",
          "text": [
            "<class 'pandas.core.frame.DataFrame'>\n",
            "RangeIndex: 1458644 entries, 0 to 1458643\n",
            "Data columns (total 11 columns):\n",
            " #   Column              Non-Null Count    Dtype  \n",
            "---  ------              --------------    -----  \n",
            " 0   id                  1458644 non-null  object \n",
            " 1   vendor_id           1458644 non-null  int64  \n",
            " 2   pickup_datetime     1458644 non-null  object \n",
            " 3   dropoff_datetime    1458644 non-null  object \n",
            " 4   passenger_count     1458644 non-null  int64  \n",
            " 5   pickup_longitude    1458644 non-null  float64\n",
            " 6   pickup_latitude     1458644 non-null  float64\n",
            " 7   dropoff_longitude   1458644 non-null  float64\n",
            " 8   dropoff_latitude    1458644 non-null  float64\n",
            " 9   store_and_fwd_flag  1458644 non-null  object \n",
            " 10  trip_duration       1458644 non-null  int64  \n",
            "dtypes: float64(4), int64(3), object(4)\n",
            "memory usage: 122.4+ MB\n"
          ]
        }
      ]
    },
    {
      "cell_type": "code",
      "metadata": {
        "id": "etr_KD3UuMZn"
      },
      "source": [
        "#i am duplicating the data\n",
        "duplicate=df.copy()"
      ],
      "execution_count": null,
      "outputs": []
    },
    {
      "cell_type": "code",
      "metadata": {
        "colab": {
          "base_uri": "https://localhost:8080/"
        },
        "id": "7a1CI-Ebua5o",
        "outputId": "3a85631d-686c-446b-8467-d23ccd8fb009"
      },
      "source": [
        "df.shape"
      ],
      "execution_count": null,
      "outputs": [
        {
          "output_type": "execute_result",
          "data": {
            "text/plain": [
              "(1458644, 11)"
            ]
          },
          "metadata": {},
          "execution_count": 9
        }
      ]
    },
    {
      "cell_type": "code",
      "metadata": {
        "colab": {
          "base_uri": "https://localhost:8080/"
        },
        "id": "e6Il6w5hplpU",
        "outputId": "df136374-560a-4d41-be38-c06f97243794"
      },
      "source": [
        "df.passenger_count.value_counts()"
      ],
      "execution_count": null,
      "outputs": [
        {
          "output_type": "execute_result",
          "data": {
            "text/plain": [
              "1    1033540\n",
              "2     210318\n",
              "5      78088\n",
              "3      59896\n",
              "6      48333\n",
              "4      28404\n",
              "0         60\n",
              "7          3\n",
              "9          1\n",
              "8          1\n",
              "Name: passenger_count, dtype: int64"
            ]
          },
          "metadata": {},
          "execution_count": 10
        }
      ]
    },
    {
      "cell_type": "code",
      "metadata": {
        "colab": {
          "base_uri": "https://localhost:8080/",
          "height": 507
        },
        "id": "Lj9sG46fkTEB",
        "outputId": "694d823f-5923-4299-98f8-170aebed9e5e"
      },
      "source": [
        "fig, ax = plt.subplots(figsize =(10, 7))\n",
        "ax.hist(df['passenger_count'])"
      ],
      "execution_count": null,
      "outputs": [
        {
          "output_type": "execute_result",
          "data": {
            "text/plain": [
              "(array([6.00000e+01, 1.03354e+06, 2.10318e+05, 5.98960e+04, 2.84040e+04,\n",
              "        7.80880e+04, 4.83330e+04, 3.00000e+00, 1.00000e+00, 1.00000e+00]),\n",
              " array([0. , 0.9, 1.8, 2.7, 3.6, 4.5, 5.4, 6.3, 7.2, 8.1, 9. ]),\n",
              " <a list of 10 Patch objects>)"
            ]
          },
          "metadata": {},
          "execution_count": 11
        },
        {
          "output_type": "display_data",
          "data": {
            "image/png": "[encoded data removed]",
            "text/plain": [
              "<Figure size 720x504 with 1 Axes>"
            ]
          },
          "metadata": {
            "needs_background": "light"
          }
        }
      ]
    },
    {
      "cell_type": "code",
      "metadata": {
        "id": "HxONK_wtqbjL"
      },
      "source": [
        "#removing the outliers for passenger count 0,7,8,9\n",
        "index=df[(df['passenger_count']==0) | (df['passenger_count']==7) | (df['passenger_count'] == 8) | (df['passenger_count'] == 9)].index\n",
        "df.drop(index,inplace=True)"
      ],
      "execution_count": null,
      "outputs": []
    },
    {
      "cell_type": "code",
      "metadata": {
        "colab": {
          "base_uri": "https://localhost:8080/"
        },
        "id": "AJbxP8f2qZoq",
        "outputId": "cb3f391e-a94c-4872-8f6f-492ba99ebde1"
      },
      "source": [
        "df.shape\n"
      ],
      "execution_count": null,
      "outputs": [
        {
          "output_type": "execute_result",
          "data": {
            "text/plain": [
              "(1458579, 11)"
            ]
          },
          "metadata": {},
          "execution_count": 13
        }
      ]
    },
    {
      "cell_type": "code",
      "metadata": {
        "id": "ETtcitFCwCvg"
      },
      "source": [
        "#data formating \n",
        "df['store_and_fwd_flag']=df['store_and_fwd_flag'].map(lambda x:0 if x=='N' else 1)\n"
      ],
      "execution_count": null,
      "outputs": []
    },
    {
      "cell_type": "code",
      "metadata": {
        "colab": {
          "base_uri": "https://localhost:8080/"
        },
        "id": "3jq0dpQrw3L3",
        "outputId": "eac1d2d7-4c67-452e-e88e-844375600784"
      },
      "source": [
        "df['store_and_fwd_flag'].value_counts()"
      ],
      "execution_count": null,
      "outputs": [
        {
          "output_type": "execute_result",
          "data": {
            "text/plain": [
              "0    1450537\n",
              "1       8042\n",
              "Name: store_and_fwd_flag, dtype: int64"
            ]
          },
          "metadata": {},
          "execution_count": 15
        }
      ]
    },
    {
      "cell_type": "code",
      "metadata": {
        "colab": {
          "base_uri": "https://localhost:8080/",
          "height": 204
        },
        "id": "V7iDHm16wwjr",
        "outputId": "9bacda26-dd05-4cf9-d8c0-ffabe6552524"
      },
      "source": [
        "df.head()"
      ],
      "execution_count": null,
      "outputs": [
        {
          "output_type": "execute_result",
          "data": {
            "text/html": [
              "<div>\n",
              "<style scoped>\n",
              "    .dataframe tbody tr th:only-of-type {\n",
              "        vertical-align: middle;\n",
              "    }\n",
              "\n",
              "    .dataframe tbody tr th {\n",
              "        vertical-align: top;\n",
              "    }\n",
              "\n",
              "    .dataframe thead th {\n",
              "        text-align: right;\n",
              "    }\n",
              "</style>\n",
              "<table border=\"1\" class=\"dataframe\">\n",
              "  <thead>\n",
              "    <tr style=\"text-align: right;\">\n",
              "      <th></th>\n",
              "      <th>id</th>\n",
              "      <th>vendor_id</th>\n",
              "      <th>pickup_datetime</th>\n",
              "      <th>dropoff_datetime</th>\n",
              "      <th>passenger_count</th>\n",
              "      <th>pickup_longitude</th>\n",
              "      <th>pickup_latitude</th>\n",
              "      <th>dropoff_longitude</th>\n",
              "      <th>dropoff_latitude</th>\n",
              "      <th>store_and_fwd_flag</th>\n",
              "      <th>trip_duration</th>\n",
              "    </tr>\n",
              "  </thead>\n",
              "  <tbody>\n",
              "    <tr>\n",
              "      <th>0</th>\n",
              "      <td>id2875421</td>\n",
              "      <td>2</td>\n",
              "      <td>2016-03-14 17:24:55</td>\n",
              "      <td>2016-03-14 17:32:30</td>\n",
              "      <td>1</td>\n",
              "      <td>-73.982155</td>\n",
              "      <td>40.767937</td>\n",
              "      <td>-73.964630</td>\n",
              "      <td>40.765602</td>\n",
              "      <td>0</td>\n",
              "      <td>455</td>\n",
              "    </tr>\n",
              "    <tr>\n",
              "      <th>1</th>\n",
              "      <td>id2377394</td>\n",
              "      <td>1</td>\n",
              "      <td>2016-06-12 00:43:35</td>\n",
              "      <td>2016-06-12 00:54:38</td>\n",
              "      <td>1</td>\n",
              "      <td>-73.980415</td>\n",
              "      <td>40.738564</td>\n",
              "      <td>-73.999481</td>\n",
              "      <td>40.731152</td>\n",
              "      <td>0</td>\n",
              "      <td>663</td>\n",
              "    </tr>\n",
              "    <tr>\n",
              "      <th>2</th>\n",
              "      <td>id3858529</td>\n",
              "      <td>2</td>\n",
              "      <td>2016-01-19 11:35:24</td>\n",
              "      <td>2016-01-19 12:10:48</td>\n",
              "      <td>1</td>\n",
              "      <td>-73.979027</td>\n",
              "      <td>40.763939</td>\n",
              "      <td>-74.005333</td>\n",
              "      <td>40.710087</td>\n",
              "      <td>0</td>\n",
              "      <td>2124</td>\n",
              "    </tr>\n",
              "    <tr>\n",
              "      <th>3</th>\n",
              "      <td>id3504673</td>\n",
              "      <td>2</td>\n",
              "      <td>2016-04-06 19:32:31</td>\n",
              "      <td>2016-04-06 19:39:40</td>\n",
              "      <td>1</td>\n",
              "      <td>-74.010040</td>\n",
              "      <td>40.719971</td>\n",
              "      <td>-74.012268</td>\n",
              "      <td>40.706718</td>\n",
              "      <td>0</td>\n",
              "      <td>429</td>\n",
              "    </tr>\n",
              "    <tr>\n",
              "      <th>4</th>\n",
              "      <td>id2181028</td>\n",
              "      <td>2</td>\n",
              "      <td>2016-03-26 13:30:55</td>\n",
              "      <td>2016-03-26 13:38:10</td>\n",
              "      <td>1</td>\n",
              "      <td>-73.973053</td>\n",
              "      <td>40.793209</td>\n",
              "      <td>-73.972923</td>\n",
              "      <td>40.782520</td>\n",
              "      <td>0</td>\n",
              "      <td>435</td>\n",
              "    </tr>\n",
              "  </tbody>\n",
              "</table>\n",
              "</div>"
            ],
            "text/plain": [
              "          id  vendor_id  ... store_and_fwd_flag trip_duration\n",
              "0  id2875421          2  ...                  0           455\n",
              "1  id2377394          1  ...                  0           663\n",
              "2  id3858529          2  ...                  0          2124\n",
              "3  id3504673          2  ...                  0           429\n",
              "4  id2181028          2  ...                  0           435\n",
              "\n",
              "[5 rows x 11 columns]"
            ]
          },
          "metadata": {},
          "execution_count": 16
        }
      ]
    },
    {
      "cell_type": "markdown",
      "metadata": {
        "id": "qfl4XS3shgvn"
      },
      "source": [
        "**Let's Check the data distribution of cordinates**"
      ]
    },
    {
      "cell_type": "code",
      "metadata": {
        "id": "nev5z3XoubyY"
      },
      "source": [
        "dist_col=['pickup_longitude',\n",
        " 'pickup_latitude',\n",
        " 'dropoff_longitude',\n",
        " 'dropoff_latitude']"
      ],
      "execution_count": null,
      "outputs": []
    },
    {
      "cell_type": "code",
      "metadata": {
        "colab": {
          "base_uri": "https://localhost:8080/",
          "height": 1000
        },
        "id": "P6LXtpVgudx-",
        "outputId": "3a6f9835-bef3-4e34-ac46-af57d4361f91"
      },
      "source": [
        "for i in dist_col:\n",
        "    ax = sns.distplot(df[i])\n",
        "    plt.show()"
      ],
      "execution_count": null,
      "outputs": [
        {
          "output_type": "stream",
          "name": "stderr",
          "text": [
            "/usr/local/lib/python3.7/dist-packages/seaborn/distributions.py:2619: FutureWarning: `distplot` is a deprecated function and will be removed in a future version. Please adapt your code to use either `displot` (a figure-level function with similar flexibility) or `histplot` (an axes-level function for histograms).\n",
            "  warnings.warn(msg, FutureWarning)\n"
          ]
        },
        {
          "output_type": "display_data",
          "data": {
            "image/png": "[encoded data removed]",
            "text/plain": [
              "<Figure size 432x288 with 1 Axes>"
            ]
          },
          "metadata": {
            "needs_background": "light"
          }
        },
        {
          "output_type": "stream",
          "name": "stderr",
          "text": [
            "/usr/local/lib/python3.7/dist-packages/seaborn/distributions.py:2619: FutureWarning: `distplot` is a deprecated function and will be removed in a future version. Please adapt your code to use either `displot` (a figure-level function with similar flexibility) or `histplot` (an axes-level function for histograms).\n",
            "  warnings.warn(msg, FutureWarning)\n"
          ]
        },
        {
          "output_type": "display_data",
          "data": {
            "image/png": "[encoded data removed]",
            "text/plain": [
              "<Figure size 432x288 with 1 Axes>"
            ]
          },
          "metadata": {
            "needs_background": "light"
          }
        },
        {
          "output_type": "stream",
          "name": "stderr",
          "text": [
            "/usr/local/lib/python3.7/dist-packages/seaborn/distributions.py:2619: FutureWarning: `distplot` is a deprecated function and will be removed in a future version. Please adapt your code to use either `displot` (a figure-level function with similar flexibility) or `histplot` (an axes-level function for histograms).\n",
            "  warnings.warn(msg, FutureWarning)\n"
          ]
        },
        {
          "output_type": "display_data",
          "data": {
            "image/png": "[encoded data removed]",
            "text/plain": [
              "<Figure size 432x288 with 1 Axes>"
            ]
          },
          "metadata": {
            "needs_background": "light"
          }
        },
        {
          "output_type": "stream",
          "name": "stderr",
          "text": [
            "/usr/local/lib/python3.7/dist-packages/seaborn/distributions.py:2619: FutureWarning: `distplot` is a deprecated function and will be removed in a future version. Please adapt your code to use either `displot` (a figure-level function with similar flexibility) or `histplot` (an axes-level function for histograms).\n",
            "  warnings.warn(msg, FutureWarning)\n"
          ]
        },
        {
          "output_type": "display_data",
          "data": {
            "image/png": "[encoded data removed]",
            "text/plain": [
              "<Figure size 432x288 with 1 Axes>"
            ]
          },
          "metadata": {
            "needs_background": "light"
          }
        }
      ]
    },
    {
      "cell_type": "code",
      "metadata": {
        "id": "Ki9uz4rEufVG"
      },
      "source": [
        "#Add bounds to coordinates from the dataset to avoid Outliers affecting the plots\n",
        "df = df.loc[(df.pickup_latitude > 40.6) & (df.pickup_latitude < 40.9)]\n",
        "df = df.loc[(df.dropoff_latitude > 40.6) & (df.dropoff_latitude < 40.9)]\n",
        "df= df.loc[(df.pickup_longitude > -74.05) & (df.pickup_longitude < -73.7)]\n",
        "df = df.loc[(df.dropoff_longitude > -74.05) & (df.dropoff_longitude < -73.7)]"
      ],
      "execution_count": null,
      "outputs": []
    },
    {
      "cell_type": "code",
      "metadata": {
        "colab": {
          "base_uri": "https://localhost:8080/",
          "height": 419
        },
        "id": "A2L14h-PuxWu",
        "outputId": "3ba3bef9-61ae-4820-97fc-07c346e56d5e"
      },
      "source": [
        "df"
      ],
      "execution_count": null,
      "outputs": [
        {
          "output_type": "execute_result",
          "data": {
            "text/html": [
              "<div>\n",
              "<style scoped>\n",
              "    .dataframe tbody tr th:only-of-type {\n",
              "        vertical-align: middle;\n",
              "    }\n",
              "\n",
              "    .dataframe tbody tr th {\n",
              "        vertical-align: top;\n",
              "    }\n",
              "\n",
              "    .dataframe thead th {\n",
              "        text-align: right;\n",
              "    }\n",
              "</style>\n",
              "<table border=\"1\" class=\"dataframe\">\n",
              "  <thead>\n",
              "    <tr style=\"text-align: right;\">\n",
              "      <th></th>\n",
              "      <th>id</th>\n",
              "      <th>vendor_id</th>\n",
              "      <th>pickup_datetime</th>\n",
              "      <th>dropoff_datetime</th>\n",
              "      <th>passenger_count</th>\n",
              "      <th>pickup_longitude</th>\n",
              "      <th>pickup_latitude</th>\n",
              "      <th>dropoff_longitude</th>\n",
              "      <th>dropoff_latitude</th>\n",
              "      <th>store_and_fwd_flag</th>\n",
              "      <th>trip_duration</th>\n",
              "    </tr>\n",
              "  </thead>\n",
              "  <tbody>\n",
              "    <tr>\n",
              "      <th>0</th>\n",
              "      <td>id2875421</td>\n",
              "      <td>2</td>\n",
              "      <td>2016-03-14 17:24:55</td>\n",
              "      <td>2016-03-14 17:32:30</td>\n",
              "      <td>1</td>\n",
              "      <td>-73.982155</td>\n",
              "      <td>40.767937</td>\n",
              "      <td>-73.964630</td>\n",
              "      <td>40.765602</td>\n",
              "      <td>0</td>\n",
              "      <td>455</td>\n",
              "    </tr>\n",
              "    <tr>\n",
              "      <th>1</th>\n",
              "      <td>id2377394</td>\n",
              "      <td>1</td>\n",
              "      <td>2016-06-12 00:43:35</td>\n",
              "      <td>2016-06-12 00:54:38</td>\n",
              "      <td>1</td>\n",
              "      <td>-73.980415</td>\n",
              "      <td>40.738564</td>\n",
              "      <td>-73.999481</td>\n",
              "      <td>40.731152</td>\n",
              "      <td>0</td>\n",
              "      <td>663</td>\n",
              "    </tr>\n",
              "    <tr>\n",
              "      <th>2</th>\n",
              "      <td>id3858529</td>\n",
              "      <td>2</td>\n",
              "      <td>2016-01-19 11:35:24</td>\n",
              "      <td>2016-01-19 12:10:48</td>\n",
              "      <td>1</td>\n",
              "      <td>-73.979027</td>\n",
              "      <td>40.763939</td>\n",
              "      <td>-74.005333</td>\n",
              "      <td>40.710087</td>\n",
              "      <td>0</td>\n",
              "      <td>2124</td>\n",
              "    </tr>\n",
              "    <tr>\n",
              "      <th>3</th>\n",
              "      <td>id3504673</td>\n",
              "      <td>2</td>\n",
              "      <td>2016-04-06 19:32:31</td>\n",
              "      <td>2016-04-06 19:39:40</td>\n",
              "      <td>1</td>\n",
              "      <td>-74.010040</td>\n",
              "      <td>40.719971</td>\n",
              "      <td>-74.012268</td>\n",
              "      <td>40.706718</td>\n",
              "      <td>0</td>\n",
              "      <td>429</td>\n",
              "    </tr>\n",
              "    <tr>\n",
              "      <th>4</th>\n",
              "      <td>id2181028</td>\n",
              "      <td>2</td>\n",
              "      <td>2016-03-26 13:30:55</td>\n",
              "      <td>2016-03-26 13:38:10</td>\n",
              "      <td>1</td>\n",
              "      <td>-73.973053</td>\n",
              "      <td>40.793209</td>\n",
              "      <td>-73.972923</td>\n",
              "      <td>40.782520</td>\n",
              "      <td>0</td>\n",
              "      <td>435</td>\n",
              "    </tr>\n",
              "    <tr>\n",
              "      <th>...</th>\n",
              "      <td>...</td>\n",
              "      <td>...</td>\n",
              "      <td>...</td>\n",
              "      <td>...</td>\n",
              "      <td>...</td>\n",
              "      <td>...</td>\n",
              "      <td>...</td>\n",
              "      <td>...</td>\n",
              "      <td>...</td>\n",
              "      <td>...</td>\n",
              "      <td>...</td>\n",
              "    </tr>\n",
              "    <tr>\n",
              "      <th>1458639</th>\n",
              "      <td>id2376096</td>\n",
              "      <td>2</td>\n",
              "      <td>2016-04-08 13:31:04</td>\n",
              "      <td>2016-04-08 13:44:02</td>\n",
              "      <td>4</td>\n",
              "      <td>-73.982201</td>\n",
              "      <td>40.745522</td>\n",
              "      <td>-73.994911</td>\n",
              "      <td>40.740170</td>\n",
              "      <td>0</td>\n",
              "      <td>778</td>\n",
              "    </tr>\n",
              "    <tr>\n",
              "      <th>1458640</th>\n",
              "      <td>id1049543</td>\n",
              "      <td>1</td>\n",
              "      <td>2016-01-10 07:35:15</td>\n",
              "      <td>2016-01-10 07:46:10</td>\n",
              "      <td>1</td>\n",
              "      <td>-74.000946</td>\n",
              "      <td>40.747379</td>\n",
              "      <td>-73.970184</td>\n",
              "      <td>40.796547</td>\n",
              "      <td>0</td>\n",
              "      <td>655</td>\n",
              "    </tr>\n",
              "    <tr>\n",
              "      <th>1458641</th>\n",
              "      <td>id2304944</td>\n",
              "      <td>2</td>\n",
              "      <td>2016-04-22 06:57:41</td>\n",
              "      <td>2016-04-22 07:10:25</td>\n",
              "      <td>1</td>\n",
              "      <td>-73.959129</td>\n",
              "      <td>40.768799</td>\n",
              "      <td>-74.004433</td>\n",
              "      <td>40.707371</td>\n",
              "      <td>0</td>\n",
              "      <td>764</td>\n",
              "    </tr>\n",
              "    <tr>\n",
              "      <th>1458642</th>\n",
              "      <td>id2714485</td>\n",
              "      <td>1</td>\n",
              "      <td>2016-01-05 15:56:26</td>\n",
              "      <td>2016-01-05 16:02:39</td>\n",
              "      <td>1</td>\n",
              "      <td>-73.982079</td>\n",
              "      <td>40.749062</td>\n",
              "      <td>-73.974632</td>\n",
              "      <td>40.757107</td>\n",
              "      <td>0</td>\n",
              "      <td>373</td>\n",
              "    </tr>\n",
              "    <tr>\n",
              "      <th>1458643</th>\n",
              "      <td>id1209952</td>\n",
              "      <td>1</td>\n",
              "      <td>2016-04-05 14:44:25</td>\n",
              "      <td>2016-04-05 14:47:43</td>\n",
              "      <td>1</td>\n",
              "      <td>-73.979538</td>\n",
              "      <td>40.781750</td>\n",
              "      <td>-73.972809</td>\n",
              "      <td>40.790585</td>\n",
              "      <td>0</td>\n",
              "      <td>198</td>\n",
              "    </tr>\n",
              "  </tbody>\n",
              "</table>\n",
              "<p>1452324 rows × 11 columns</p>\n",
              "</div>"
            ],
            "text/plain": [
              "                id  vendor_id  ... store_and_fwd_flag trip_duration\n",
              "0        id2875421          2  ...                  0           455\n",
              "1        id2377394          1  ...                  0           663\n",
              "2        id3858529          2  ...                  0          2124\n",
              "3        id3504673          2  ...                  0           429\n",
              "4        id2181028          2  ...                  0           435\n",
              "...            ...        ...  ...                ...           ...\n",
              "1458639  id2376096          2  ...                  0           778\n",
              "1458640  id1049543          1  ...                  0           655\n",
              "1458641  id2304944          2  ...                  0           764\n",
              "1458642  id2714485          1  ...                  0           373\n",
              "1458643  id1209952          1  ...                  0           198\n",
              "\n",
              "[1452324 rows x 11 columns]"
            ]
          },
          "metadata": {},
          "execution_count": 20
        }
      ]
    },
    {
      "cell_type": "code",
      "metadata": {
        "colab": {
          "base_uri": "https://localhost:8080/",
          "height": 1000
        },
        "id": "D10fQDsruzLF",
        "outputId": "c2c72bdf-d952-4abe-8a74-82f0f3bbfaae"
      },
      "source": [
        "for i in dist_col:\n",
        "    ax = sns.distplot(df[i])\n",
        "    plt.show()"
      ],
      "execution_count": null,
      "outputs": [
        {
          "output_type": "stream",
          "name": "stderr",
          "text": [
            "/usr/local/lib/python3.7/dist-packages/seaborn/distributions.py:2619: FutureWarning: `distplot` is a deprecated function and will be removed in a future version. Please adapt your code to use either `displot` (a figure-level function with similar flexibility) or `histplot` (an axes-level function for histograms).\n",
            "  warnings.warn(msg, FutureWarning)\n"
          ]
        },
        {
          "output_type": "display_data",
          "data": {
            "image/png": "[encoded data removed]",
            "text/plain": [
              "<Figure size 432x288 with 1 Axes>"
            ]
          },
          "metadata": {
            "needs_background": "light"
          }
        },
        {
          "output_type": "stream",
          "name": "stderr",
          "text": [
            "/usr/local/lib/python3.7/dist-packages/seaborn/distributions.py:2619: FutureWarning: `distplot` is a deprecated function and will be removed in a future version. Please adapt your code to use either `displot` (a figure-level function with similar flexibility) or `histplot` (an axes-level function for histograms).\n",
            "  warnings.warn(msg, FutureWarning)\n"
          ]
        },
        {
          "output_type": "display_data",
          "data": {
            "image/png": "[encoded data removed]",
            "text/plain": [
              "<Figure size 432x288 with 1 Axes>"
            ]
          },
          "metadata": {
            "needs_background": "light"
          }
        },
        {
          "output_type": "stream",
          "name": "stderr",
          "text": [
            "/usr/local/lib/python3.7/dist-packages/seaborn/distributions.py:2619: FutureWarning: `distplot` is a deprecated function and will be removed in a future version. Please adapt your code to use either `displot` (a figure-level function with similar flexibility) or `histplot` (an axes-level function for histograms).\n",
            "  warnings.warn(msg, FutureWarning)\n"
          ]
        },
        {
          "output_type": "display_data",
          "data": {
            "image/png": "[encoded data removed]",
            "text/plain": [
              "<Figure size 432x288 with 1 Axes>"
            ]
          },
          "metadata": {
            "needs_background": "light"
          }
        },
        {
          "output_type": "stream",
          "name": "stderr",
          "text": [
            "/usr/local/lib/python3.7/dist-packages/seaborn/distributions.py:2619: FutureWarning: `distplot` is a deprecated function and will be removed in a future version. Please adapt your code to use either `displot` (a figure-level function with similar flexibility) or `histplot` (an axes-level function for histograms).\n",
            "  warnings.warn(msg, FutureWarning)\n"
          ]
        },
        {
          "output_type": "display_data",
          "data": {
            "image/png": "[encoded data removed]",
            "text/plain": [
              "<Figure size 432x288 with 1 Axes>"
            ]
          },
          "metadata": {
            "needs_background": "light"
          }
        }
      ]
    },
    {
      "cell_type": "code",
      "metadata": {
        "id": "094Tlz29u23p"
      },
      "source": [
        "#i am removing more rows on the basis of this data distribution \n",
        "df= df.loc[(df.pickup_longitude > -74.02) & (df.pickup_longitude < -73.94)]\n",
        "df = df.loc[(df.pickup_latitude > 40.7) & (df.pickup_latitude <40.81 )]\n",
        "df = df.loc[(df.dropoff_longitude > -74.02) & (df.dropoff_longitude < -73.94)]\n",
        "df = df.loc[(df.dropoff_latitude > 40.7) & (df.dropoff_latitude < 40.81)]\n"
      ],
      "execution_count": null,
      "outputs": []
    },
    {
      "cell_type": "code",
      "metadata": {
        "colab": {
          "base_uri": "https://localhost:8080/"
        },
        "id": "xL7I4bEcu6-G",
        "outputId": "b9feb8d2-9983-4819-daab-b72d13e9ecd1"
      },
      "source": [
        "df.shape"
      ],
      "execution_count": null,
      "outputs": [
        {
          "output_type": "execute_result",
          "data": {
            "text/plain": [
              "(1217934, 11)"
            ]
          },
          "metadata": {},
          "execution_count": 23
        }
      ]
    },
    {
      "cell_type": "code",
      "metadata": {
        "colab": {
          "base_uri": "https://localhost:8080/",
          "height": 1000
        },
        "id": "ABTE5KIUvAq1",
        "outputId": "5a5e2006-9810-4b5e-c65b-18858eca985f"
      },
      "source": [
        "for i in dist_col:\n",
        "    ax = sns.distplot(df[i])\n",
        "    plt.show()"
      ],
      "execution_count": null,
      "outputs": [
        {
          "output_type": "stream",
          "name": "stderr",
          "text": [
            "/usr/local/lib/python3.7/dist-packages/seaborn/distributions.py:2619: FutureWarning: `distplot` is a deprecated function and will be removed in a future version. Please adapt your code to use either `displot` (a figure-level function with similar flexibility) or `histplot` (an axes-level function for histograms).\n",
            "  warnings.warn(msg, FutureWarning)\n"
          ]
        },
        {
          "output_type": "display_data",
          "data": {
            "image/png": "[encoded data removed]",
            "text/plain": [
              "<Figure size 432x288 with 1 Axes>"
            ]
          },
          "metadata": {
            "needs_background": "light"
          }
        },
        {
          "output_type": "stream",
          "name": "stderr",
          "text": [
            "/usr/local/lib/python3.7/dist-packages/seaborn/distributions.py:2619: FutureWarning: `distplot` is a deprecated function and will be removed in a future version. Please adapt your code to use either `displot` (a figure-level function with similar flexibility) or `histplot` (an axes-level function for histograms).\n",
            "  warnings.warn(msg, FutureWarning)\n"
          ]
        },
        {
          "output_type": "display_data",
          "data": {
            "image/png": "[encoded data removed]",
            "text/plain": [
              "<Figure size 432x288 with 1 Axes>"
            ]
          },
          "metadata": {
            "needs_background": "light"
          }
        },
        {
          "output_type": "stream",
          "name": "stderr",
          "text": [
            "/usr/local/lib/python3.7/dist-packages/seaborn/distributions.py:2619: FutureWarning: `distplot` is a deprecated function and will be removed in a future version. Please adapt your code to use either `displot` (a figure-level function with similar flexibility) or `histplot` (an axes-level function for histograms).\n",
            "  warnings.warn(msg, FutureWarning)\n"
          ]
        },
        {
          "output_type": "display_data",
          "data": {
            "image/png": "[encoded data removed]",
            "text/plain": [
              "<Figure size 432x288 with 1 Axes>"
            ]
          },
          "metadata": {
            "needs_background": "light"
          }
        },
        {
          "output_type": "stream",
          "name": "stderr",
          "text": [
            "/usr/local/lib/python3.7/dist-packages/seaborn/distributions.py:2619: FutureWarning: `distplot` is a deprecated function and will be removed in a future version. Please adapt your code to use either `displot` (a figure-level function with similar flexibility) or `histplot` (an axes-level function for histograms).\n",
            "  warnings.warn(msg, FutureWarning)\n"
          ]
        },
        {
          "output_type": "display_data",
          "data": {
            "image/png": "[encoded data removed]",
            "text/plain": [
              "<Figure size 432x288 with 1 Axes>"
            ]
          },
          "metadata": {
            "needs_background": "light"
          }
        }
      ]
    },
    {
      "cell_type": "markdown",
      "metadata": {
        "id": "fYYHpAHJitU-"
      },
      "source": [
        "** Lets work upon the trip duration **"
      ]
    },
    {
      "cell_type": "code",
      "metadata": {
        "colab": {
          "base_uri": "https://localhost:8080/"
        },
        "id": "GoC_haYAinH2",
        "outputId": "85e1e535-ae07-4886-e294-f2b6a363b310"
      },
      "source": [
        "df.trip_duration.describe()\n"
      ],
      "execution_count": null,
      "outputs": [
        {
          "output_type": "execute_result",
          "data": {
            "text/plain": [
              "count    1.217934e+06\n",
              "mean     8.060051e+02\n",
              "std      3.691101e+03\n",
              "min      1.000000e+00\n",
              "25%      3.680000e+02\n",
              "50%      5.930000e+02\n",
              "75%      9.100000e+02\n",
              "max      2.227612e+06\n",
              "Name: trip_duration, dtype: float64"
            ]
          },
          "metadata": {},
          "execution_count": 25
        }
      ]
    },
    {
      "cell_type": "code",
      "metadata": {
        "colab": {
          "base_uri": "https://localhost:8080/",
          "height": 389
        },
        "id": "5btkWQQXi76Q",
        "outputId": "490ba77e-d6cb-4280-9a4a-3630a4e8c464"
      },
      "source": [
        "plt.figure(figsize = (20,5))\n",
        "sns.boxplot(df.trip_duration)\n",
        "plt.show()"
      ],
      "execution_count": null,
      "outputs": [
        {
          "output_type": "stream",
          "name": "stderr",
          "text": [
            "/usr/local/lib/python3.7/dist-packages/seaborn/_decorators.py:43: FutureWarning: Pass the following variable as a keyword arg: x. From version 0.12, the only valid positional argument will be `data`, and passing other arguments without an explicit keyword will result in an error or misinterpretation.\n",
            "  FutureWarning\n"
          ]
        },
        {
          "output_type": "display_data",
          "data": {
            "image/png": "[encoded data removed]",
            "text/plain": [
              "<Figure size 1440x360 with 1 Axes>"
            ]
          },
          "metadata": {
            "needs_background": "light"
          }
        }
      ]
    },
    {
      "cell_type": "code",
      "metadata": {
        "colab": {
          "base_uri": "https://localhost:8080/",
          "height": 345
        },
        "id": "FdWNPhMPjcZU",
        "outputId": "3e3578f7-2302-45dc-84cb-f0063875821f"
      },
      "source": [
        "ax = sns.distplot(df['trip_duration'])\n",
        "plt.show()"
      ],
      "execution_count": null,
      "outputs": [
        {
          "output_type": "stream",
          "name": "stderr",
          "text": [
            "/usr/local/lib/python3.7/dist-packages/seaborn/distributions.py:2619: FutureWarning: `distplot` is a deprecated function and will be removed in a future version. Please adapt your code to use either `displot` (a figure-level function with similar flexibility) or `histplot` (an axes-level function for histograms).\n",
            "  warnings.warn(msg, FutureWarning)\n"
          ]
        },
        {
          "output_type": "display_data",
          "data": {
            "image/png": "[encoded data removed]",
            "text/plain": [
              "<Figure size 432x288 with 1 Axes>"
            ]
          },
          "metadata": {
            "needs_background": "light"
          }
        }
      ]
    },
    {
      "cell_type": "markdown",
      "metadata": {
        "id": "3KTxmtY3LWlt"
      },
      "source": [
        "**Here few values are more than 86400 sec which is grater than 24hrs which are outliers**"
      ]
    },
    {
      "cell_type": "code",
      "metadata": {
        "id": "GRLs6Ra9j378"
      },
      "source": [
        "index1=df[df['trip_duration'] > 86400].index\n",
        "df.drop(index1,inplace=True)\n"
      ],
      "execution_count": null,
      "outputs": []
    },
    {
      "cell_type": "code",
      "metadata": {
        "colab": {
          "base_uri": "https://localhost:8080/",
          "height": 334
        },
        "id": "I7cG6vCIL4Ma",
        "outputId": "ece4c2fd-f054-4e9e-f317-8c134af36c78"
      },
      "source": [
        "ax = sns.distplot(df['trip_duration'])\n",
        "plt.show()"
      ],
      "execution_count": null,
      "outputs": [
        {
          "output_type": "stream",
          "name": "stderr",
          "text": [
            "/usr/local/lib/python3.7/dist-packages/seaborn/distributions.py:2619: FutureWarning: `distplot` is a deprecated function and will be removed in a future version. Please adapt your code to use either `displot` (a figure-level function with similar flexibility) or `histplot` (an axes-level function for histograms).\n",
            "  warnings.warn(msg, FutureWarning)\n"
          ]
        },
        {
          "output_type": "display_data",
          "data": {
            "image/png": "[encoded data removed]",
            "text/plain": [
              "<Figure size 432x288 with 1 Axes>"
            ]
          },
          "metadata": {
            "needs_background": "light"
          }
        }
      ]
    },
    {
      "cell_type": "code",
      "metadata": {
        "colab": {
          "base_uri": "https://localhost:8080/",
          "height": 419
        },
        "id": "L_gG38WVMP86",
        "outputId": "245cab26-fc73-4471-c143-cbc45c1c5596"
      },
      "source": [
        "df[df['trip_duration'] > (86400/2)]"
      ],
      "execution_count": null,
      "outputs": [
        {
          "output_type": "execute_result",
          "data": {
            "text/html": [
              "<div>\n",
              "<style scoped>\n",
              "    .dataframe tbody tr th:only-of-type {\n",
              "        vertical-align: middle;\n",
              "    }\n",
              "\n",
              "    .dataframe tbody tr th {\n",
              "        vertical-align: top;\n",
              "    }\n",
              "\n",
              "    .dataframe thead th {\n",
              "        text-align: right;\n",
              "    }\n",
              "</style>\n",
              "<table border=\"1\" class=\"dataframe\">\n",
              "  <thead>\n",
              "    <tr style=\"text-align: right;\">\n",
              "      <th></th>\n",
              "      <th>id</th>\n",
              "      <th>vendor_id</th>\n",
              "      <th>pickup_datetime</th>\n",
              "      <th>dropoff_datetime</th>\n",
              "      <th>passenger_count</th>\n",
              "      <th>pickup_longitude</th>\n",
              "      <th>pickup_latitude</th>\n",
              "      <th>dropoff_longitude</th>\n",
              "      <th>dropoff_latitude</th>\n",
              "      <th>store_and_fwd_flag</th>\n",
              "      <th>trip_duration</th>\n",
              "    </tr>\n",
              "  </thead>\n",
              "  <tbody>\n",
              "    <tr>\n",
              "      <th>531</th>\n",
              "      <td>id3307903</td>\n",
              "      <td>2</td>\n",
              "      <td>2016-02-20 04:03:06</td>\n",
              "      <td>2016-02-21 03:33:00</td>\n",
              "      <td>3</td>\n",
              "      <td>-74.008102</td>\n",
              "      <td>40.741489</td>\n",
              "      <td>-74.009956</td>\n",
              "      <td>40.714611</td>\n",
              "      <td>0</td>\n",
              "      <td>84594</td>\n",
              "    </tr>\n",
              "    <tr>\n",
              "      <th>1134</th>\n",
              "      <td>id1091477</td>\n",
              "      <td>2</td>\n",
              "      <td>2016-05-07 18:36:22</td>\n",
              "      <td>2016-05-08 18:32:11</td>\n",
              "      <td>1</td>\n",
              "      <td>-73.990242</td>\n",
              "      <td>40.750919</td>\n",
              "      <td>-73.976280</td>\n",
              "      <td>40.750889</td>\n",
              "      <td>0</td>\n",
              "      <td>86149</td>\n",
              "    </tr>\n",
              "    <tr>\n",
              "      <th>1865</th>\n",
              "      <td>id3431345</td>\n",
              "      <td>2</td>\n",
              "      <td>2016-06-07 12:58:48</td>\n",
              "      <td>2016-06-08 12:58:00</td>\n",
              "      <td>6</td>\n",
              "      <td>-73.954956</td>\n",
              "      <td>40.777649</td>\n",
              "      <td>-73.981033</td>\n",
              "      <td>40.743713</td>\n",
              "      <td>0</td>\n",
              "      <td>86352</td>\n",
              "    </tr>\n",
              "    <tr>\n",
              "      <th>3442</th>\n",
              "      <td>id1487069</td>\n",
              "      <td>2</td>\n",
              "      <td>2016-02-13 00:21:49</td>\n",
              "      <td>2016-02-14 00:19:05</td>\n",
              "      <td>1</td>\n",
              "      <td>-73.968590</td>\n",
              "      <td>40.799217</td>\n",
              "      <td>-73.979584</td>\n",
              "      <td>40.784714</td>\n",
              "      <td>0</td>\n",
              "      <td>86236</td>\n",
              "    </tr>\n",
              "    <tr>\n",
              "      <th>4172</th>\n",
              "      <td>id3674870</td>\n",
              "      <td>2</td>\n",
              "      <td>2016-03-18 11:54:20</td>\n",
              "      <td>2016-03-19 11:34:17</td>\n",
              "      <td>1</td>\n",
              "      <td>-73.989090</td>\n",
              "      <td>40.736992</td>\n",
              "      <td>-73.972336</td>\n",
              "      <td>40.751511</td>\n",
              "      <td>0</td>\n",
              "      <td>85197</td>\n",
              "    </tr>\n",
              "    <tr>\n",
              "      <th>...</th>\n",
              "      <td>...</td>\n",
              "      <td>...</td>\n",
              "      <td>...</td>\n",
              "      <td>...</td>\n",
              "      <td>...</td>\n",
              "      <td>...</td>\n",
              "      <td>...</td>\n",
              "      <td>...</td>\n",
              "      <td>...</td>\n",
              "      <td>...</td>\n",
              "      <td>...</td>\n",
              "    </tr>\n",
              "    <tr>\n",
              "      <th>1454858</th>\n",
              "      <td>id2743253</td>\n",
              "      <td>2</td>\n",
              "      <td>2016-06-23 16:04:53</td>\n",
              "      <td>2016-06-24 16:01:33</td>\n",
              "      <td>1</td>\n",
              "      <td>-74.008759</td>\n",
              "      <td>40.719040</td>\n",
              "      <td>-73.972305</td>\n",
              "      <td>40.749691</td>\n",
              "      <td>0</td>\n",
              "      <td>86200</td>\n",
              "    </tr>\n",
              "    <tr>\n",
              "      <th>1456458</th>\n",
              "      <td>id2055880</td>\n",
              "      <td>2</td>\n",
              "      <td>2016-02-08 19:11:31</td>\n",
              "      <td>2016-02-09 19:08:44</td>\n",
              "      <td>3</td>\n",
              "      <td>-73.973282</td>\n",
              "      <td>40.760792</td>\n",
              "      <td>-73.988518</td>\n",
              "      <td>40.764210</td>\n",
              "      <td>0</td>\n",
              "      <td>86233</td>\n",
              "    </tr>\n",
              "    <tr>\n",
              "      <th>1457207</th>\n",
              "      <td>id1910950</td>\n",
              "      <td>2</td>\n",
              "      <td>2016-06-08 16:29:12</td>\n",
              "      <td>2016-06-09 16:11:03</td>\n",
              "      <td>1</td>\n",
              "      <td>-73.958061</td>\n",
              "      <td>40.800869</td>\n",
              "      <td>-73.964119</td>\n",
              "      <td>40.805515</td>\n",
              "      <td>0</td>\n",
              "      <td>85311</td>\n",
              "    </tr>\n",
              "    <tr>\n",
              "      <th>1457752</th>\n",
              "      <td>id1215198</td>\n",
              "      <td>2</td>\n",
              "      <td>2016-02-02 11:31:10</td>\n",
              "      <td>2016-02-03 11:29:44</td>\n",
              "      <td>6</td>\n",
              "      <td>-73.972069</td>\n",
              "      <td>40.794220</td>\n",
              "      <td>-73.961014</td>\n",
              "      <td>40.806728</td>\n",
              "      <td>0</td>\n",
              "      <td>86314</td>\n",
              "    </tr>\n",
              "    <tr>\n",
              "      <th>1458076</th>\n",
              "      <td>id2332290</td>\n",
              "      <td>2</td>\n",
              "      <td>2016-04-24 00:58:34</td>\n",
              "      <td>2016-04-25 00:56:16</td>\n",
              "      <td>1</td>\n",
              "      <td>-73.990479</td>\n",
              "      <td>40.760876</td>\n",
              "      <td>-73.983025</td>\n",
              "      <td>40.764557</td>\n",
              "      <td>0</td>\n",
              "      <td>86262</td>\n",
              "    </tr>\n",
              "  </tbody>\n",
              "</table>\n",
              "<p>1596 rows × 11 columns</p>\n",
              "</div>"
            ],
            "text/plain": [
              "                id  vendor_id  ... store_and_fwd_flag trip_duration\n",
              "531      id3307903          2  ...                  0         84594\n",
              "1134     id1091477          2  ...                  0         86149\n",
              "1865     id3431345          2  ...                  0         86352\n",
              "3442     id1487069          2  ...                  0         86236\n",
              "4172     id3674870          2  ...                  0         85197\n",
              "...            ...        ...  ...                ...           ...\n",
              "1454858  id2743253          2  ...                  0         86200\n",
              "1456458  id2055880          2  ...                  0         86233\n",
              "1457207  id1910950          2  ...                  0         85311\n",
              "1457752  id1215198          2  ...                  0         86314\n",
              "1458076  id2332290          2  ...                  0         86262\n",
              "\n",
              "[1596 rows x 11 columns]"
            ]
          },
          "metadata": {},
          "execution_count": 30
        }
      ]
    },
    {
      "cell_type": "markdown",
      "metadata": {
        "id": "pwjrZ4kGvIws"
      },
      "source": [
        "**Calculating the haversine distance**"
      ]
    },
    {
      "cell_type": "code",
      "metadata": {
        "id": "GCzNKrHcvDLk"
      },
      "source": [
        "def haversine_dist(sub_data):\n",
        "  dlat=np.radians(sub_data['dropoff_latitude']-sub_data['pickup_latitude'])\n",
        "  dlon=np.radians(sub_data['dropoff_longitude'] - sub_data['pickup_longitude'])\n",
        "  r=6371 #in km\n",
        "  h=np.sin(dlat/2)**2+np.cos(np.radians(sub_data['dropoff_latitude']))*np.cos(np.radians(sub_data['pickup_latitude']))*(np.sin(dlon/2))**2\n",
        "  d=2*r*np.arcsin(np.sqrt(h))\n",
        "  return d"
      ],
      "execution_count": null,
      "outputs": []
    },
    {
      "cell_type": "code",
      "metadata": {
        "id": "Caxz7C3qvPPM"
      },
      "source": [
        "df['haversine_dist']  = df.apply(haversine_dist, axis = 1)"
      ],
      "execution_count": null,
      "outputs": []
    },
    {
      "cell_type": "code",
      "metadata": {
        "colab": {
          "base_uri": "https://localhost:8080/",
          "height": 204
        },
        "id": "ZyV54b-fvRjF",
        "outputId": "07a48e64-0c3a-4e00-84da-4900a64dc29d"
      },
      "source": [
        "df.head()"
      ],
      "execution_count": null,
      "outputs": [
        {
          "output_type": "execute_result",
          "data": {
            "text/html": [
              "<div>\n",
              "<style scoped>\n",
              "    .dataframe tbody tr th:only-of-type {\n",
              "        vertical-align: middle;\n",
              "    }\n",
              "\n",
              "    .dataframe tbody tr th {\n",
              "        vertical-align: top;\n",
              "    }\n",
              "\n",
              "    .dataframe thead th {\n",
              "        text-align: right;\n",
              "    }\n",
              "</style>\n",
              "<table border=\"1\" class=\"dataframe\">\n",
              "  <thead>\n",
              "    <tr style=\"text-align: right;\">\n",
              "      <th></th>\n",
              "      <th>id</th>\n",
              "      <th>vendor_id</th>\n",
              "      <th>pickup_datetime</th>\n",
              "      <th>dropoff_datetime</th>\n",
              "      <th>passenger_count</th>\n",
              "      <th>pickup_longitude</th>\n",
              "      <th>pickup_latitude</th>\n",
              "      <th>dropoff_longitude</th>\n",
              "      <th>dropoff_latitude</th>\n",
              "      <th>store_and_fwd_flag</th>\n",
              "      <th>trip_duration</th>\n",
              "      <th>haversine_dist</th>\n",
              "    </tr>\n",
              "  </thead>\n",
              "  <tbody>\n",
              "    <tr>\n",
              "      <th>0</th>\n",
              "      <td>id2875421</td>\n",
              "      <td>2</td>\n",
              "      <td>2016-03-14 17:24:55</td>\n",
              "      <td>2016-03-14 17:32:30</td>\n",
              "      <td>1</td>\n",
              "      <td>-73.982155</td>\n",
              "      <td>40.767937</td>\n",
              "      <td>-73.964630</td>\n",
              "      <td>40.765602</td>\n",
              "      <td>0</td>\n",
              "      <td>455</td>\n",
              "      <td>1.498521</td>\n",
              "    </tr>\n",
              "    <tr>\n",
              "      <th>1</th>\n",
              "      <td>id2377394</td>\n",
              "      <td>1</td>\n",
              "      <td>2016-06-12 00:43:35</td>\n",
              "      <td>2016-06-12 00:54:38</td>\n",
              "      <td>1</td>\n",
              "      <td>-73.980415</td>\n",
              "      <td>40.738564</td>\n",
              "      <td>-73.999481</td>\n",
              "      <td>40.731152</td>\n",
              "      <td>0</td>\n",
              "      <td>663</td>\n",
              "      <td>1.805507</td>\n",
              "    </tr>\n",
              "    <tr>\n",
              "      <th>2</th>\n",
              "      <td>id3858529</td>\n",
              "      <td>2</td>\n",
              "      <td>2016-01-19 11:35:24</td>\n",
              "      <td>2016-01-19 12:10:48</td>\n",
              "      <td>1</td>\n",
              "      <td>-73.979027</td>\n",
              "      <td>40.763939</td>\n",
              "      <td>-74.005333</td>\n",
              "      <td>40.710087</td>\n",
              "      <td>0</td>\n",
              "      <td>2124</td>\n",
              "      <td>6.385098</td>\n",
              "    </tr>\n",
              "    <tr>\n",
              "      <th>3</th>\n",
              "      <td>id3504673</td>\n",
              "      <td>2</td>\n",
              "      <td>2016-04-06 19:32:31</td>\n",
              "      <td>2016-04-06 19:39:40</td>\n",
              "      <td>1</td>\n",
              "      <td>-74.010040</td>\n",
              "      <td>40.719971</td>\n",
              "      <td>-74.012268</td>\n",
              "      <td>40.706718</td>\n",
              "      <td>0</td>\n",
              "      <td>429</td>\n",
              "      <td>1.485498</td>\n",
              "    </tr>\n",
              "    <tr>\n",
              "      <th>4</th>\n",
              "      <td>id2181028</td>\n",
              "      <td>2</td>\n",
              "      <td>2016-03-26 13:30:55</td>\n",
              "      <td>2016-03-26 13:38:10</td>\n",
              "      <td>1</td>\n",
              "      <td>-73.973053</td>\n",
              "      <td>40.793209</td>\n",
              "      <td>-73.972923</td>\n",
              "      <td>40.782520</td>\n",
              "      <td>0</td>\n",
              "      <td>435</td>\n",
              "      <td>1.188588</td>\n",
              "    </tr>\n",
              "  </tbody>\n",
              "</table>\n",
              "</div>"
            ],
            "text/plain": [
              "          id  vendor_id  ... trip_duration haversine_dist\n",
              "0  id2875421          2  ...           455       1.498521\n",
              "1  id2377394          1  ...           663       1.805507\n",
              "2  id3858529          2  ...          2124       6.385098\n",
              "3  id3504673          2  ...           429       1.485498\n",
              "4  id2181028          2  ...           435       1.188588\n",
              "\n",
              "[5 rows x 12 columns]"
            ]
          },
          "metadata": {},
          "execution_count": 33
        }
      ]
    },
    {
      "cell_type": "code",
      "metadata": {
        "colab": {
          "base_uri": "https://localhost:8080/"
        },
        "id": "Hgbf6WvameJu",
        "outputId": "a3c59bf1-1fe1-487f-a5ed-a233f9001434"
      },
      "source": [
        "df['haversine_dist'].describe()"
      ],
      "execution_count": null,
      "outputs": [
        {
          "output_type": "execute_result",
          "data": {
            "text/plain": [
              "count    1.217933e+06\n",
              "mean     2.271714e+00\n",
              "std      1.595559e+00\n",
              "min      0.000000e+00\n",
              "25%      1.140935e+00\n",
              "50%      1.825345e+00\n",
              "75%      2.943649e+00\n",
              "max      1.321932e+01\n",
              "Name: haversine_dist, dtype: float64"
            ]
          },
          "metadata": {},
          "execution_count": 54
        }
      ]
    },
    {
      "cell_type": "code",
      "metadata": {
        "id": "BORv5Z-bmrua"
      },
      "source": [
        "max_dist=df['haversine_dist'].max()"
      ],
      "execution_count": null,
      "outputs": []
    },
    {
      "cell_type": "code",
      "metadata": {
        "colab": {
          "base_uri": "https://localhost:8080/"
        },
        "id": "Cpgsy0rnm234",
        "outputId": "e718440c-db74-4d31-c3c4-24b1981d60f3"
      },
      "source": [
        "max_dist_trip_time=df[df['haversine_dist'] == max_dist].trip_duration.values[0]\n",
        "max_dist_trip_time"
      ],
      "execution_count": null,
      "outputs": [
        {
          "output_type": "execute_result",
          "data": {
            "text/plain": [
              "1212"
            ]
          },
          "metadata": {},
          "execution_count": 82
        }
      ]
    },
    {
      "cell_type": "markdown",
      "metadata": {
        "id": "I67x2aP7pzAg"
      },
      "source": [
        "*Here we can say thet maximum distance is traveled in 1212 sec which is almost 33 minutes *"
      ]
    },
    {
      "cell_type": "code",
      "metadata": {
        "id": "z4MyNxDJoPg9"
      },
      "source": [
        "#checking the trip_duration which has taken more than 5 hrs it will be treated as outlier cause the maximum distance from all the data is 13km and also less than 15 sec trips is not possible \n",
        "sub_data2=df[(df['trip_duration']>18000) | (df['trip_duration'] < 15 ) ]\n"
      ],
      "execution_count": null,
      "outputs": []
    },
    {
      "cell_type": "code",
      "metadata": {
        "colab": {
          "base_uri": "https://localhost:8080/",
          "height": 419
        },
        "id": "RWsRMpGywtAY",
        "outputId": "c3c1a6eb-a51c-4a7a-c7d0-78a1217a5a94"
      },
      "source": [
        "sub_data2"
      ],
      "execution_count": null,
      "outputs": [
        {
          "output_type": "execute_result",
          "data": {
            "text/html": [
              "<div>\n",
              "<style scoped>\n",
              "    .dataframe tbody tr th:only-of-type {\n",
              "        vertical-align: middle;\n",
              "    }\n",
              "\n",
              "    .dataframe tbody tr th {\n",
              "        vertical-align: top;\n",
              "    }\n",
              "\n",
              "    .dataframe thead th {\n",
              "        text-align: right;\n",
              "    }\n",
              "</style>\n",
              "<table border=\"1\" class=\"dataframe\">\n",
              "  <thead>\n",
              "    <tr style=\"text-align: right;\">\n",
              "      <th></th>\n",
              "      <th>id</th>\n",
              "      <th>vendor_id</th>\n",
              "      <th>pickup_datetime</th>\n",
              "      <th>dropoff_datetime</th>\n",
              "      <th>passenger_count</th>\n",
              "      <th>pickup_longitude</th>\n",
              "      <th>pickup_latitude</th>\n",
              "      <th>dropoff_longitude</th>\n",
              "      <th>dropoff_latitude</th>\n",
              "      <th>store_and_fwd_flag</th>\n",
              "      <th>trip_duration</th>\n",
              "      <th>haversine_dist</th>\n",
              "      <th>Velocity</th>\n",
              "    </tr>\n",
              "  </thead>\n",
              "  <tbody>\n",
              "    <tr>\n",
              "      <th>1960</th>\n",
              "      <td>id0508736</td>\n",
              "      <td>1</td>\n",
              "      <td>2016-03-30 08:05:38</td>\n",
              "      <td>2016-03-30 08:05:41</td>\n",
              "      <td>1</td>\n",
              "      <td>-73.964096</td>\n",
              "      <td>40.777172</td>\n",
              "      <td>-73.964088</td>\n",
              "      <td>40.777157</td>\n",
              "      <td>0</td>\n",
              "      <td>3</td>\n",
              "      <td>0.001814</td>\n",
              "      <td>0.217710</td>\n",
              "    </tr>\n",
              "    <tr>\n",
              "      <th>3070</th>\n",
              "      <td>id2857295</td>\n",
              "      <td>2</td>\n",
              "      <td>2016-01-28 23:34:01</td>\n",
              "      <td>2016-01-28 23:34:09</td>\n",
              "      <td>6</td>\n",
              "      <td>-73.994423</td>\n",
              "      <td>40.734810</td>\n",
              "      <td>-73.993752</td>\n",
              "      <td>40.734558</td>\n",
              "      <td>0</td>\n",
              "      <td>8</td>\n",
              "      <td>0.063117</td>\n",
              "      <td>2.840277</td>\n",
              "    </tr>\n",
              "    <tr>\n",
              "      <th>3480</th>\n",
              "      <td>id1622938</td>\n",
              "      <td>1</td>\n",
              "      <td>2016-04-03 13:08:49</td>\n",
              "      <td>2016-04-03 13:08:59</td>\n",
              "      <td>1</td>\n",
              "      <td>-73.987228</td>\n",
              "      <td>40.739525</td>\n",
              "      <td>-73.987228</td>\n",
              "      <td>40.739529</td>\n",
              "      <td>0</td>\n",
              "      <td>10</td>\n",
              "      <td>0.000424</td>\n",
              "      <td>0.015270</td>\n",
              "    </tr>\n",
              "    <tr>\n",
              "      <th>3708</th>\n",
              "      <td>id1006773</td>\n",
              "      <td>1</td>\n",
              "      <td>2016-02-04 20:57:54</td>\n",
              "      <td>2016-02-04 20:58:06</td>\n",
              "      <td>1</td>\n",
              "      <td>-73.998756</td>\n",
              "      <td>40.760258</td>\n",
              "      <td>-73.998764</td>\n",
              "      <td>40.760227</td>\n",
              "      <td>0</td>\n",
              "      <td>12</td>\n",
              "      <td>0.003454</td>\n",
              "      <td>0.103611</td>\n",
              "    </tr>\n",
              "    <tr>\n",
              "      <th>4597</th>\n",
              "      <td>id0719015</td>\n",
              "      <td>1</td>\n",
              "      <td>2016-06-11 16:09:09</td>\n",
              "      <td>2016-06-11 16:09:17</td>\n",
              "      <td>1</td>\n",
              "      <td>-73.988312</td>\n",
              "      <td>40.746204</td>\n",
              "      <td>-73.988419</td>\n",
              "      <td>40.746189</td>\n",
              "      <td>0</td>\n",
              "      <td>8</td>\n",
              "      <td>0.009157</td>\n",
              "      <td>0.412047</td>\n",
              "    </tr>\n",
              "    <tr>\n",
              "      <th>...</th>\n",
              "      <td>...</td>\n",
              "      <td>...</td>\n",
              "      <td>...</td>\n",
              "      <td>...</td>\n",
              "      <td>...</td>\n",
              "      <td>...</td>\n",
              "      <td>...</td>\n",
              "      <td>...</td>\n",
              "      <td>...</td>\n",
              "      <td>...</td>\n",
              "      <td>...</td>\n",
              "      <td>...</td>\n",
              "      <td>...</td>\n",
              "    </tr>\n",
              "    <tr>\n",
              "      <th>1455388</th>\n",
              "      <td>id0156896</td>\n",
              "      <td>2</td>\n",
              "      <td>2016-04-23 00:03:24</td>\n",
              "      <td>2016-04-23 00:03:30</td>\n",
              "      <td>1</td>\n",
              "      <td>-73.987518</td>\n",
              "      <td>40.749962</td>\n",
              "      <td>-73.987259</td>\n",
              "      <td>40.750324</td>\n",
              "      <td>0</td>\n",
              "      <td>6</td>\n",
              "      <td>0.045840</td>\n",
              "      <td>2.750388</td>\n",
              "    </tr>\n",
              "    <tr>\n",
              "      <th>1456198</th>\n",
              "      <td>id3967591</td>\n",
              "      <td>1</td>\n",
              "      <td>2016-06-02 23:17:04</td>\n",
              "      <td>2016-06-02 23:17:11</td>\n",
              "      <td>1</td>\n",
              "      <td>-73.974136</td>\n",
              "      <td>40.795700</td>\n",
              "      <td>-73.974144</td>\n",
              "      <td>40.795681</td>\n",
              "      <td>0</td>\n",
              "      <td>7</td>\n",
              "      <td>0.002216</td>\n",
              "      <td>0.113965</td>\n",
              "    </tr>\n",
              "    <tr>\n",
              "      <th>1456442</th>\n",
              "      <td>id3241296</td>\n",
              "      <td>2</td>\n",
              "      <td>2016-02-11 08:01:28</td>\n",
              "      <td>2016-02-11 08:01:35</td>\n",
              "      <td>1</td>\n",
              "      <td>-73.978844</td>\n",
              "      <td>40.761787</td>\n",
              "      <td>-73.978951</td>\n",
              "      <td>40.761833</td>\n",
              "      <td>0</td>\n",
              "      <td>7</td>\n",
              "      <td>0.010336</td>\n",
              "      <td>0.531573</td>\n",
              "    </tr>\n",
              "    <tr>\n",
              "      <th>1457746</th>\n",
              "      <td>id1044471</td>\n",
              "      <td>2</td>\n",
              "      <td>2016-01-29 21:58:11</td>\n",
              "      <td>2016-01-29 21:58:23</td>\n",
              "      <td>1</td>\n",
              "      <td>-73.975708</td>\n",
              "      <td>40.733089</td>\n",
              "      <td>-73.975685</td>\n",
              "      <td>40.733101</td>\n",
              "      <td>0</td>\n",
              "      <td>12</td>\n",
              "      <td>0.002311</td>\n",
              "      <td>0.069316</td>\n",
              "    </tr>\n",
              "    <tr>\n",
              "      <th>1458044</th>\n",
              "      <td>id3200588</td>\n",
              "      <td>2</td>\n",
              "      <td>2016-03-12 01:35:35</td>\n",
              "      <td>2016-03-12 01:35:42</td>\n",
              "      <td>1</td>\n",
              "      <td>-74.007378</td>\n",
              "      <td>40.739441</td>\n",
              "      <td>-74.007378</td>\n",
              "      <td>40.739449</td>\n",
              "      <td>0</td>\n",
              "      <td>7</td>\n",
              "      <td>0.000848</td>\n",
              "      <td>0.043629</td>\n",
              "    </tr>\n",
              "  </tbody>\n",
              "</table>\n",
              "<p>1155 rows × 13 columns</p>\n",
              "</div>"
            ],
            "text/plain": [
              "                id  vendor_id  ... haversine_dist  Velocity\n",
              "1960     id0508736          1  ...       0.001814  0.217710\n",
              "3070     id2857295          2  ...       0.063117  2.840277\n",
              "3480     id1622938          1  ...       0.000424  0.015270\n",
              "3708     id1006773          1  ...       0.003454  0.103611\n",
              "4597     id0719015          1  ...       0.009157  0.412047\n",
              "...            ...        ...  ...            ...       ...\n",
              "1455388  id0156896          2  ...       0.045840  2.750388\n",
              "1456198  id3967591          1  ...       0.002216  0.113965\n",
              "1456442  id3241296          2  ...       0.010336  0.531573\n",
              "1457746  id1044471          2  ...       0.002311  0.069316\n",
              "1458044  id3200588          2  ...       0.000848  0.043629\n",
              "\n",
              "[1155 rows x 13 columns]"
            ]
          },
          "metadata": {},
          "execution_count": 148
        }
      ]
    },
    {
      "cell_type": "code",
      "metadata": {
        "colab": {
          "base_uri": "https://localhost:8080/",
          "height": 419
        },
        "id": "Lyfq3XVZxQK0",
        "outputId": "964aec62-9002-42c9-e0ce-16e495cf9eff"
      },
      "source": [
        "df[df['trip_duration'] < 240]"
      ],
      "execution_count": null,
      "outputs": [
        {
          "output_type": "execute_result",
          "data": {
            "text/html": [
              "<div>\n",
              "<style scoped>\n",
              "    .dataframe tbody tr th:only-of-type {\n",
              "        vertical-align: middle;\n",
              "    }\n",
              "\n",
              "    .dataframe tbody tr th {\n",
              "        vertical-align: top;\n",
              "    }\n",
              "\n",
              "    .dataframe thead th {\n",
              "        text-align: right;\n",
              "    }\n",
              "</style>\n",
              "<table border=\"1\" class=\"dataframe\">\n",
              "  <thead>\n",
              "    <tr style=\"text-align: right;\">\n",
              "      <th></th>\n",
              "      <th>id</th>\n",
              "      <th>vendor_id</th>\n",
              "      <th>pickup_datetime</th>\n",
              "      <th>dropoff_datetime</th>\n",
              "      <th>passenger_count</th>\n",
              "      <th>pickup_longitude</th>\n",
              "      <th>pickup_latitude</th>\n",
              "      <th>dropoff_longitude</th>\n",
              "      <th>dropoff_latitude</th>\n",
              "      <th>store_and_fwd_flag</th>\n",
              "      <th>trip_duration</th>\n",
              "      <th>haversine_dist</th>\n",
              "      <th>Velocity</th>\n",
              "    </tr>\n",
              "  </thead>\n",
              "  <tbody>\n",
              "    <tr>\n",
              "      <th>15</th>\n",
              "      <td>id3319787</td>\n",
              "      <td>1</td>\n",
              "      <td>2016-05-16 15:29:02</td>\n",
              "      <td>2016-05-16 15:32:33</td>\n",
              "      <td>1</td>\n",
              "      <td>-73.955513</td>\n",
              "      <td>40.768593</td>\n",
              "      <td>-73.948761</td>\n",
              "      <td>40.771545</td>\n",
              "      <td>0</td>\n",
              "      <td>211</td>\n",
              "      <td>0.656578</td>\n",
              "      <td>1.120228</td>\n",
              "    </tr>\n",
              "    <tr>\n",
              "      <th>64</th>\n",
              "      <td>id0442192</td>\n",
              "      <td>1</td>\n",
              "      <td>2016-04-10 16:07:46</td>\n",
              "      <td>2016-04-10 16:10:40</td>\n",
              "      <td>1</td>\n",
              "      <td>-74.006325</td>\n",
              "      <td>40.733391</td>\n",
              "      <td>-74.000008</td>\n",
              "      <td>40.743256</td>\n",
              "      <td>0</td>\n",
              "      <td>174</td>\n",
              "      <td>1.219220</td>\n",
              "      <td>2.522524</td>\n",
              "    </tr>\n",
              "    <tr>\n",
              "      <th>68</th>\n",
              "      <td>id1680350</td>\n",
              "      <td>1</td>\n",
              "      <td>2016-03-18 20:56:16</td>\n",
              "      <td>2016-03-18 20:59:51</td>\n",
              "      <td>1</td>\n",
              "      <td>-74.002983</td>\n",
              "      <td>40.723312</td>\n",
              "      <td>-74.001556</td>\n",
              "      <td>40.728825</td>\n",
              "      <td>0</td>\n",
              "      <td>215</td>\n",
              "      <td>0.624612</td>\n",
              "      <td>1.045863</td>\n",
              "    </tr>\n",
              "    <tr>\n",
              "      <th>72</th>\n",
              "      <td>id1510700</td>\n",
              "      <td>2</td>\n",
              "      <td>2016-02-20 21:58:13</td>\n",
              "      <td>2016-02-20 21:59:10</td>\n",
              "      <td>1</td>\n",
              "      <td>-73.958397</td>\n",
              "      <td>40.772629</td>\n",
              "      <td>-73.955132</td>\n",
              "      <td>40.774242</td>\n",
              "      <td>0</td>\n",
              "      <td>57</td>\n",
              "      <td>0.328333</td>\n",
              "      <td>2.073680</td>\n",
              "    </tr>\n",
              "    <tr>\n",
              "      <th>83</th>\n",
              "      <td>id1205949</td>\n",
              "      <td>1</td>\n",
              "      <td>2016-06-05 18:43:14</td>\n",
              "      <td>2016-06-05 18:46:52</td>\n",
              "      <td>1</td>\n",
              "      <td>-73.962608</td>\n",
              "      <td>40.758827</td>\n",
              "      <td>-73.954193</td>\n",
              "      <td>40.764053</td>\n",
              "      <td>0</td>\n",
              "      <td>218</td>\n",
              "      <td>0.916533</td>\n",
              "      <td>1.513541</td>\n",
              "    </tr>\n",
              "    <tr>\n",
              "      <th>...</th>\n",
              "      <td>...</td>\n",
              "      <td>...</td>\n",
              "      <td>...</td>\n",
              "      <td>...</td>\n",
              "      <td>...</td>\n",
              "      <td>...</td>\n",
              "      <td>...</td>\n",
              "      <td>...</td>\n",
              "      <td>...</td>\n",
              "      <td>...</td>\n",
              "      <td>...</td>\n",
              "      <td>...</td>\n",
              "      <td>...</td>\n",
              "    </tr>\n",
              "    <tr>\n",
              "      <th>1458610</th>\n",
              "      <td>id1156695</td>\n",
              "      <td>2</td>\n",
              "      <td>2016-02-27 01:37:32</td>\n",
              "      <td>2016-02-27 01:40:39</td>\n",
              "      <td>1</td>\n",
              "      <td>-73.986832</td>\n",
              "      <td>40.733181</td>\n",
              "      <td>-73.986168</td>\n",
              "      <td>40.726452</td>\n",
              "      <td>0</td>\n",
              "      <td>187</td>\n",
              "      <td>0.750332</td>\n",
              "      <td>1.444490</td>\n",
              "    </tr>\n",
              "    <tr>\n",
              "      <th>1458617</th>\n",
              "      <td>id0820021</td>\n",
              "      <td>2</td>\n",
              "      <td>2016-04-15 08:31:20</td>\n",
              "      <td>2016-04-15 08:34:48</td>\n",
              "      <td>1</td>\n",
              "      <td>-73.975433</td>\n",
              "      <td>40.752411</td>\n",
              "      <td>-73.973122</td>\n",
              "      <td>40.746780</td>\n",
              "      <td>0</td>\n",
              "      <td>208</td>\n",
              "      <td>0.655668</td>\n",
              "      <td>1.134809</td>\n",
              "    </tr>\n",
              "    <tr>\n",
              "      <th>1458624</th>\n",
              "      <td>id3482902</td>\n",
              "      <td>1</td>\n",
              "      <td>2016-03-01 07:21:04</td>\n",
              "      <td>2016-03-01 07:23:36</td>\n",
              "      <td>1</td>\n",
              "      <td>-73.974693</td>\n",
              "      <td>40.756088</td>\n",
              "      <td>-73.969971</td>\n",
              "      <td>40.762115</td>\n",
              "      <td>0</td>\n",
              "      <td>152</td>\n",
              "      <td>0.779346</td>\n",
              "      <td>1.845819</td>\n",
              "    </tr>\n",
              "    <tr>\n",
              "      <th>1458635</th>\n",
              "      <td>id3027038</td>\n",
              "      <td>2</td>\n",
              "      <td>2016-05-19 14:46:55</td>\n",
              "      <td>2016-05-19 14:50:52</td>\n",
              "      <td>1</td>\n",
              "      <td>-73.985390</td>\n",
              "      <td>40.763020</td>\n",
              "      <td>-73.989708</td>\n",
              "      <td>40.767502</td>\n",
              "      <td>0</td>\n",
              "      <td>237</td>\n",
              "      <td>0.616982</td>\n",
              "      <td>0.937188</td>\n",
              "    </tr>\n",
              "    <tr>\n",
              "      <th>1458643</th>\n",
              "      <td>id1209952</td>\n",
              "      <td>1</td>\n",
              "      <td>2016-04-05 14:44:25</td>\n",
              "      <td>2016-04-05 14:47:43</td>\n",
              "      <td>1</td>\n",
              "      <td>-73.979538</td>\n",
              "      <td>40.781750</td>\n",
              "      <td>-73.972809</td>\n",
              "      <td>40.790585</td>\n",
              "      <td>0</td>\n",
              "      <td>198</td>\n",
              "      <td>1.134042</td>\n",
              "      <td>2.061894</td>\n",
              "    </tr>\n",
              "  </tbody>\n",
              "</table>\n",
              "<p>128149 rows × 13 columns</p>\n",
              "</div>"
            ],
            "text/plain": [
              "                id  vendor_id  ... haversine_dist  Velocity\n",
              "15       id3319787          1  ...       0.656578  1.120228\n",
              "64       id0442192          1  ...       1.219220  2.522524\n",
              "68       id1680350          1  ...       0.624612  1.045863\n",
              "72       id1510700          2  ...       0.328333  2.073680\n",
              "83       id1205949          1  ...       0.916533  1.513541\n",
              "...            ...        ...  ...            ...       ...\n",
              "1458610  id1156695          2  ...       0.750332  1.444490\n",
              "1458617  id0820021          2  ...       0.655668  1.134809\n",
              "1458624  id3482902          1  ...       0.779346  1.845819\n",
              "1458635  id3027038          2  ...       0.616982  0.937188\n",
              "1458643  id1209952          1  ...       1.134042  2.061894\n",
              "\n",
              "[128149 rows x 13 columns]"
            ]
          },
          "metadata": {},
          "execution_count": 128
        }
      ]
    },
    {
      "cell_type": "code",
      "metadata": {
        "id": "gNJVDlcfqe4T"
      },
      "source": [
        "df.drop(sub_data2.index,inplace=True)"
      ],
      "execution_count": null,
      "outputs": []
    },
    {
      "cell_type": "code",
      "metadata": {
        "colab": {
          "base_uri": "https://localhost:8080/"
        },
        "id": "A0qzJCIYq5bP",
        "outputId": "570ea999-aa8a-4c9e-c684-5dd6cdc897eb"
      },
      "source": [
        "df.shape"
      ],
      "execution_count": null,
      "outputs": [
        {
          "output_type": "execute_result",
          "data": {
            "text/plain": [
              "(1211361, 13)"
            ]
          },
          "metadata": {},
          "execution_count": 150
        }
      ]
    },
    {
      "cell_type": "code",
      "metadata": {
        "colab": {
          "base_uri": "https://localhost:8080/",
          "height": 334
        },
        "id": "OqOEeBL3rHud",
        "outputId": "59b40f43-8854-449a-bca2-a5087aea5f18"
      },
      "source": [
        "ax = sns.distplot(df['trip_duration'])\n",
        "plt.show()"
      ],
      "execution_count": null,
      "outputs": [
        {
          "output_type": "stream",
          "name": "stderr",
          "text": [
            "/usr/local/lib/python3.7/dist-packages/seaborn/distributions.py:2619: FutureWarning: `distplot` is a deprecated function and will be removed in a future version. Please adapt your code to use either `displot` (a figure-level function with similar flexibility) or `histplot` (an axes-level function for histograms).\n",
            "  warnings.warn(msg, FutureWarning)\n"
          ]
        },
        {
          "output_type": "display_data",
          "data": {
            "image/png": "[encoded data removed]",
            "text/plain": [
              "<Figure size 432x288 with 1 Axes>"
            ]
          },
          "metadata": {
            "needs_background": "light"
          }
        }
      ]
    },
    {
      "cell_type": "code",
      "metadata": {
        "colab": {
          "base_uri": "https://localhost:8080/"
        },
        "id": "1nklWt9koY4m",
        "outputId": "3561e52b-d1c9-4543-bcd5-105563d682b8"
      },
      "source": [
        "df['trip_duration'].describe()"
      ],
      "execution_count": null,
      "outputs": [
        {
          "output_type": "execute_result",
          "data": {
            "text/plain": [
              "count    1.211361e+06\n",
              "mean     6.941489e+02\n",
              "std      4.520871e+02\n",
              "min      1.500000e+01\n",
              "25%      3.690000e+02\n",
              "50%      5.930000e+02\n",
              "75%      9.100000e+02\n",
              "max      1.561700e+04\n",
              "Name: trip_duration, dtype: float64"
            ]
          },
          "metadata": {},
          "execution_count": 152
        }
      ]
    },
    {
      "cell_type": "code",
      "metadata": {
        "colab": {
          "base_uri": "https://localhost:8080/",
          "height": 49
        },
        "id": "xGZWLTr4sLcf",
        "outputId": "7e08a6f1-743c-4be7-8ff5-b75cc695a51a"
      },
      "source": [
        "#now i am again dealing with distance outliers\n",
        "df[df['haversine_dist']==0]"
      ],
      "execution_count": null,
      "outputs": [
        {
          "output_type": "execute_result",
          "data": {
            "text/html": [
              "<div>\n",
              "<style scoped>\n",
              "    .dataframe tbody tr th:only-of-type {\n",
              "        vertical-align: middle;\n",
              "    }\n",
              "\n",
              "    .dataframe tbody tr th {\n",
              "        vertical-align: top;\n",
              "    }\n",
              "\n",
              "    .dataframe thead th {\n",
              "        text-align: right;\n",
              "    }\n",
              "</style>\n",
              "<table border=\"1\" class=\"dataframe\">\n",
              "  <thead>\n",
              "    <tr style=\"text-align: right;\">\n",
              "      <th></th>\n",
              "      <th>id</th>\n",
              "      <th>vendor_id</th>\n",
              "      <th>pickup_datetime</th>\n",
              "      <th>dropoff_datetime</th>\n",
              "      <th>passenger_count</th>\n",
              "      <th>pickup_longitude</th>\n",
              "      <th>pickup_latitude</th>\n",
              "      <th>dropoff_longitude</th>\n",
              "      <th>dropoff_latitude</th>\n",
              "      <th>store_and_fwd_flag</th>\n",
              "      <th>trip_duration</th>\n",
              "      <th>haversine_dist</th>\n",
              "      <th>Velocity</th>\n",
              "    </tr>\n",
              "  </thead>\n",
              "  <tbody>\n",
              "  </tbody>\n",
              "</table>\n",
              "</div>"
            ],
            "text/plain": [
              "Empty DataFrame\n",
              "Columns: [id, vendor_id, pickup_datetime, dropoff_datetime, passenger_count, pickup_longitude, pickup_latitude, dropoff_longitude, dropoff_latitude, store_and_fwd_flag, trip_duration, haversine_dist, Velocity]\n",
              "Index: []"
            ]
          },
          "metadata": {},
          "execution_count": 153
        }
      ]
    },
    {
      "cell_type": "markdown",
      "metadata": {
        "id": "ApR0wTbet33B"
      },
      "source": [
        "**Above we can say distance ==0 which means which trip did not happend **"
      ]
    },
    {
      "cell_type": "code",
      "metadata": {
        "id": "sFt23RN-rrqg"
      },
      "source": [
        "sub_data3=df[df['haversine_dist']==0]"
      ],
      "execution_count": null,
      "outputs": []
    },
    {
      "cell_type": "code",
      "metadata": {
        "id": "IlPMew_LuQX4"
      },
      "source": [
        "#dropped above rows \n",
        "df.drop(sub_data3.index,inplace=True)\n"
      ],
      "execution_count": null,
      "outputs": []
    },
    {
      "cell_type": "code",
      "metadata": {
        "colab": {
          "base_uri": "https://localhost:8080/"
        },
        "id": "dP3kL6fYuYbz",
        "outputId": "628924e6-71dc-41a8-b1cb-b7f540355968"
      },
      "source": [
        "df.shape"
      ],
      "execution_count": null,
      "outputs": [
        {
          "output_type": "execute_result",
          "data": {
            "text/plain": [
              "(1211361, 13)"
            ]
          },
          "metadata": {},
          "execution_count": 156
        }
      ]
    },
    {
      "cell_type": "code",
      "metadata": {
        "colab": {
          "base_uri": "https://localhost:8080/"
        },
        "id": "67B33Hg9uufT",
        "outputId": "677a7509-c13f-4aa8-b323-aacc6a186e2a"
      },
      "source": [
        "df['haversine_dist'].describe()"
      ],
      "execution_count": null,
      "outputs": [
        {
          "output_type": "execute_result",
          "data": {
            "text/plain": [
              "count    1.211361e+06\n",
              "mean     2.280700e+00\n",
              "std      1.592034e+00\n",
              "min      4.241750e-04\n",
              "25%      1.148300e+00\n",
              "50%      1.831863e+00\n",
              "75%      2.950230e+00\n",
              "max      1.321932e+01\n",
              "Name: haversine_dist, dtype: float64"
            ]
          },
          "metadata": {},
          "execution_count": 157
        }
      ]
    },
    {
      "cell_type": "code",
      "metadata": {
        "colab": {
          "base_uri": "https://localhost:8080/",
          "height": 334
        },
        "id": "Bg_ZIFDAu3mA",
        "outputId": "674c65eb-43e6-4478-ce9f-2a976e420397"
      },
      "source": [
        "ax = sns.distplot(df['haversine_dist'])\n",
        "plt.show()"
      ],
      "execution_count": null,
      "outputs": [
        {
          "output_type": "stream",
          "name": "stderr",
          "text": [
            "/usr/local/lib/python3.7/dist-packages/seaborn/distributions.py:2619: FutureWarning: `distplot` is a deprecated function and will be removed in a future version. Please adapt your code to use either `displot` (a figure-level function with similar flexibility) or `histplot` (an axes-level function for histograms).\n",
            "  warnings.warn(msg, FutureWarning)\n"
          ]
        },
        {
          "output_type": "display_data",
          "data": {
            "image/png": "[encoded data removed]",
            "text/plain": [
              "<Figure size 432x288 with 1 Axes>"
            ]
          },
          "metadata": {
            "needs_background": "light"
          }
        }
      ]
    },
    {
      "cell_type": "markdown",
      "metadata": {
        "id": "S7xkTYEciIX7"
      },
      "source": [
        "**Here Velocity can major help us to perdict the trip duration let's calcuate it**"
      ]
    },
    {
      "cell_type": "code",
      "metadata": {
        "id": "VGNwzJmkvTXd"
      },
      "source": [
        "def velocity(df):\n",
        "    return (df['haversine_dist']/(df['trip_duration']/360))"
      ],
      "execution_count": null,
      "outputs": []
    },
    {
      "cell_type": "code",
      "metadata": {
        "id": "9pRs7_39iZC_"
      },
      "source": [
        "df['Velocity']  = df.apply(velocity, axis = 1)"
      ],
      "execution_count": null,
      "outputs": []
    },
    {
      "cell_type": "markdown",
      "metadata": {
        "id": "d1mc6mvzh35v"
      },
      "source": [
        "**lets know more about velocity and distances**"
      ]
    },
    {
      "cell_type": "code",
      "metadata": {
        "colab": {
          "base_uri": "https://localhost:8080/",
          "height": 80
        },
        "id": "AX7XY8IlvupZ",
        "outputId": "98e95a07-1b78-4d3b-a72d-c7a9a470fe8f"
      },
      "source": [
        "df[df['Velocity']>90]"
      ],
      "execution_count": null,
      "outputs": [
        {
          "output_type": "execute_result",
          "data": {
            "text/html": [
              "<div>\n",
              "<style scoped>\n",
              "    .dataframe tbody tr th:only-of-type {\n",
              "        vertical-align: middle;\n",
              "    }\n",
              "\n",
              "    .dataframe tbody tr th {\n",
              "        vertical-align: top;\n",
              "    }\n",
              "\n",
              "    .dataframe thead th {\n",
              "        text-align: right;\n",
              "    }\n",
              "</style>\n",
              "<table border=\"1\" class=\"dataframe\">\n",
              "  <thead>\n",
              "    <tr style=\"text-align: right;\">\n",
              "      <th></th>\n",
              "      <th>id</th>\n",
              "      <th>vendor_id</th>\n",
              "      <th>pickup_datetime</th>\n",
              "      <th>dropoff_datetime</th>\n",
              "      <th>passenger_count</th>\n",
              "      <th>pickup_longitude</th>\n",
              "      <th>pickup_latitude</th>\n",
              "      <th>dropoff_longitude</th>\n",
              "      <th>dropoff_latitude</th>\n",
              "      <th>store_and_fwd_flag</th>\n",
              "      <th>trip_duration</th>\n",
              "      <th>haversine_dist</th>\n",
              "      <th>Velocity</th>\n",
              "    </tr>\n",
              "  </thead>\n",
              "  <tbody>\n",
              "    <tr>\n",
              "      <th>1322903</th>\n",
              "      <td>id1389227</td>\n",
              "      <td>2</td>\n",
              "      <td>2016-01-17 03:11:56</td>\n",
              "      <td>2016-01-17 03:12:00</td>\n",
              "      <td>5</td>\n",
              "      <td>-73.998352</td>\n",
              "      <td>40.70853</td>\n",
              "      <td>-73.986382</td>\n",
              "      <td>40.710381</td>\n",
              "      <td>0</td>\n",
              "      <td>4</td>\n",
              "      <td>1.029739</td>\n",
              "      <td>92.67654</td>\n",
              "    </tr>\n",
              "  </tbody>\n",
              "</table>\n",
              "</div>"
            ],
            "text/plain": [
              "                id  vendor_id  ... haversine_dist  Velocity\n",
              "1322903  id1389227          2  ...       1.029739  92.67654\n",
              "\n",
              "[1 rows x 13 columns]"
            ]
          },
          "metadata": {},
          "execution_count": 116
        }
      ]
    },
    {
      "cell_type": "code",
      "metadata": {
        "colab": {
          "base_uri": "https://localhost:8080/"
        },
        "id": "4km_rxgfjScm",
        "outputId": "b522bef2-ec9b-47fe-a8bb-f981537b3033"
      },
      "source": [
        "df['Velocity'].describe()"
      ],
      "execution_count": null,
      "outputs": [
        {
          "output_type": "execute_result",
          "data": {
            "text/plain": [
              "count    1.212516e+06\n",
              "mean     1.298293e+00\n",
              "std      6.544266e-01\n",
              "min      1.190384e-04\n",
              "25%      8.651281e-01\n",
              "50%      1.186608e+00\n",
              "75%      1.603273e+00\n",
              "max      9.267654e+01\n",
              "Name: Velocity, dtype: float64"
            ]
          },
          "metadata": {},
          "execution_count": 114
        }
      ]
    },
    {
      "cell_type": "code",
      "metadata": {
        "colab": {
          "base_uri": "https://localhost:8080/"
        },
        "id": "IzdhIjU7jVQY",
        "outputId": "91cab57e-8168-4645-dd4b-55204760a363"
      },
      "source": [
        "df['haversine_dist'].describe()"
      ],
      "execution_count": null,
      "outputs": [
        {
          "output_type": "execute_result",
          "data": {
            "text/plain": [
              "count    1.217933e+06\n",
              "mean     2.271714e+00\n",
              "std      1.595559e+00\n",
              "min      0.000000e+00\n",
              "25%      1.140935e+00\n",
              "50%      1.825345e+00\n",
              "75%      2.943649e+00\n",
              "max      1.321932e+01\n",
              "Name: haversine_dist, dtype: float64"
            ]
          },
          "metadata": {},
          "execution_count": 37
        }
      ]
    },
    {
      "cell_type": "code",
      "metadata": {
        "colab": {
          "base_uri": "https://localhost:8080/",
          "height": 333
        },
        "id": "SjPcF2rZjh_Y",
        "outputId": "63e1693c-9986-4715-f08a-2df54dd4dda0"
      },
      "source": [
        "#checking distribution of velocity \n",
        "ax = sns.distplot(df['Velocity'])\n",
        "plt.show()"
      ],
      "execution_count": null,
      "outputs": [
        {
          "output_type": "stream",
          "name": "stderr",
          "text": [
            "/usr/local/lib/python3.7/dist-packages/seaborn/distributions.py:2619: FutureWarning: `distplot` is a deprecated function and will be removed in a future version. Please adapt your code to use either `displot` (a figure-level function with similar flexibility) or `histplot` (an axes-level function for histograms).\n",
            "  warnings.warn(msg, FutureWarning)\n"
          ]
        },
        {
          "output_type": "display_data",
          "data": {
            "image/png": "[encoded data removed]",
            "text/plain": [
              "<Figure size 432x288 with 1 Axes>"
            ]
          },
          "metadata": {
            "needs_background": "light"
          }
        }
      ]
    },
    {
      "cell_type": "code",
      "metadata": {
        "colab": {
          "base_uri": "https://localhost:8080/",
          "height": 334
        },
        "id": "TaZtK7CkjtXH",
        "outputId": "14b23ebe-dfbb-45db-cd38-796109092f6a"
      },
      "source": [
        "#checking distribution of distance\n",
        "ax = sns.distplot(df['haversine_dist'])\n",
        "plt.show()"
      ],
      "execution_count": null,
      "outputs": [
        {
          "output_type": "stream",
          "name": "stderr",
          "text": [
            "/usr/local/lib/python3.7/dist-packages/seaborn/distributions.py:2619: FutureWarning: `distplot` is a deprecated function and will be removed in a future version. Please adapt your code to use either `displot` (a figure-level function with similar flexibility) or `histplot` (an axes-level function for histograms).\n",
            "  warnings.warn(msg, FutureWarning)\n"
          ]
        },
        {
          "output_type": "display_data",
          "data": {
            "image/png": "[encoded data removed]",
            "text/plain": [
              "<Figure size 432x288 with 1 Axes>"
            ]
          },
          "metadata": {
            "needs_background": "light"
          }
        }
      ]
    },
    {
      "cell_type": "code",
      "metadata": {
        "colab": {
          "base_uri": "https://localhost:8080/"
        },
        "id": "COFDCnTsj7mH",
        "outputId": "b27f7098-972d-40af-fb66-959a1fe4264a"
      },
      "source": [
        "df.info()"
      ],
      "execution_count": null,
      "outputs": [
        {
          "output_type": "stream",
          "name": "stdout",
          "text": [
            "<class 'pandas.core.frame.DataFrame'>\n",
            "Int64Index: 1217933 entries, 0 to 1458643\n",
            "Data columns (total 13 columns):\n",
            " #   Column              Non-Null Count    Dtype  \n",
            "---  ------              --------------    -----  \n",
            " 0   id                  1217933 non-null  object \n",
            " 1   vendor_id           1217933 non-null  int64  \n",
            " 2   pickup_datetime     1217933 non-null  object \n",
            " 3   dropoff_datetime    1217933 non-null  object \n",
            " 4   passenger_count     1217933 non-null  int64  \n",
            " 5   pickup_longitude    1217933 non-null  float64\n",
            " 6   pickup_latitude     1217933 non-null  float64\n",
            " 7   dropoff_longitude   1217933 non-null  float64\n",
            " 8   dropoff_latitude    1217933 non-null  float64\n",
            " 9   store_and_fwd_flag  1217933 non-null  int64  \n",
            " 10  trip_duration       1217933 non-null  int64  \n",
            " 11  haversine_dist      1217933 non-null  float64\n",
            " 12  Velocity            1217933 non-null  float64\n",
            "dtypes: float64(6), int64(4), object(3)\n",
            "memory usage: 130.1+ MB\n"
          ]
        }
      ]
    },
    {
      "cell_type": "code",
      "metadata": {
        "id": "mu37dGDLkBIv"
      },
      "source": [
        "#here Pickup_datetime and Dropoff_datetime should be in datatime formate"
      ],
      "execution_count": null,
      "outputs": []
    },
    {
      "cell_type": "code",
      "metadata": {
        "colab": {
          "base_uri": "https://localhost:8080/",
          "height": 493
        },
        "id": "urPAzUBJk0Wx",
        "outputId": "e1e9693f-a75b-4ccc-df65-5712f0a6da3b"
      },
      "source": [
        "df.pickup_datetime = df.pickup_datetime.apply(pd.to_datetime) # converting object into datetime format\n",
        "df.info()\n"
      ],
      "execution_count": null,
      "outputs": [
        {
          "output_type": "error",
          "ename": "KeyboardInterrupt",
          "evalue": "ignored",
          "traceback": [
            "\u001b[0;31m---------------------------------------------------------------------------\u001b[0m",
            "\u001b[0;31mAttributeError\u001b[0m                            Traceback (most recent call last)",
            "\u001b[0;32m/usr/local/lib/python3.7/dist-packages/numpy/core/fromnumeric.py\u001b[0m in \u001b[0;36mndim\u001b[0;34m(a)\u001b[0m\n\u001b[1;32m   3107\u001b[0m     \u001b[0;32mtry\u001b[0m\u001b[0;34m:\u001b[0m\u001b[0;34m\u001b[0m\u001b[0;34m\u001b[0m\u001b[0m\n\u001b[0;32m-> 3108\u001b[0;31m         \u001b[0;32mreturn\u001b[0m \u001b[0ma\u001b[0m\u001b[0;34m.\u001b[0m\u001b[0mndim\u001b[0m\u001b[0;34m\u001b[0m\u001b[0;34m\u001b[0m\u001b[0m\n\u001b[0m\u001b[1;32m   3109\u001b[0m     \u001b[0;32mexcept\u001b[0m \u001b[0mAttributeError\u001b[0m\u001b[0;34m:\u001b[0m\u001b[0;34m\u001b[0m\u001b[0;34m\u001b[0m\u001b[0m\n",
            "\u001b[0;31mAttributeError\u001b[0m: 'Timestamp' object has no attribute 'ndim'",
            "\nDuring handling of the above exception, another exception occurred:\n",
            "\u001b[0;31mKeyboardInterrupt\u001b[0m                         Traceback (most recent call last)",
            "\u001b[0;32m<ipython-input-42-f0f177c81ead>\u001b[0m in \u001b[0;36m<module>\u001b[0;34m()\u001b[0m\n\u001b[0;32m----> 1\u001b[0;31m \u001b[0mdf\u001b[0m\u001b[0;34m.\u001b[0m\u001b[0mpickup_datetime\u001b[0m \u001b[0;34m=\u001b[0m \u001b[0mdf\u001b[0m\u001b[0;34m.\u001b[0m\u001b[0mpickup_datetime\u001b[0m\u001b[0;34m.\u001b[0m\u001b[0mapply\u001b[0m\u001b[0;34m(\u001b[0m\u001b[0mpd\u001b[0m\u001b[0;34m.\u001b[0m\u001b[0mto_datetime\u001b[0m\u001b[0;34m)\u001b[0m \u001b[0;31m# converting object into datetime format\u001b[0m\u001b[0;34m\u001b[0m\u001b[0;34m\u001b[0m\u001b[0m\n\u001b[0m\u001b[1;32m      2\u001b[0m \u001b[0mdf\u001b[0m\u001b[0;34m.\u001b[0m\u001b[0minfo\u001b[0m\u001b[0;34m(\u001b[0m\u001b[0;34m)\u001b[0m\u001b[0;34m\u001b[0m\u001b[0;34m\u001b[0m\u001b[0m\n",
            "\u001b[0;32m/usr/local/lib/python3.7/dist-packages/pandas/core/series.py\u001b[0m in \u001b[0;36mapply\u001b[0;34m(self, func, convert_dtype, args, **kwds)\u001b[0m\n\u001b[1;32m   4211\u001b[0m             \u001b[0;32melse\u001b[0m\u001b[0;34m:\u001b[0m\u001b[0;34m\u001b[0m\u001b[0;34m\u001b[0m\u001b[0m\n\u001b[1;32m   4212\u001b[0m                 \u001b[0mvalues\u001b[0m \u001b[0;34m=\u001b[0m \u001b[0mself\u001b[0m\u001b[0;34m.\u001b[0m\u001b[0mastype\u001b[0m\u001b[0;34m(\u001b[0m\u001b[0mobject\u001b[0m\u001b[0;34m)\u001b[0m\u001b[0;34m.\u001b[0m\u001b[0m_values\u001b[0m\u001b[0;34m\u001b[0m\u001b[0;34m\u001b[0m\u001b[0m\n\u001b[0;32m-> 4213\u001b[0;31m                 \u001b[0mmapped\u001b[0m \u001b[0;34m=\u001b[0m \u001b[0mlib\u001b[0m\u001b[0;34m.\u001b[0m\u001b[0mmap_infer\u001b[0m\u001b[0;34m(\u001b[0m\u001b[0mvalues\u001b[0m\u001b[0;34m,\u001b[0m \u001b[0mf\u001b[0m\u001b[0;34m,\u001b[0m \u001b[0mconvert\u001b[0m\u001b[0;34m=\u001b[0m\u001b[0mconvert_dtype\u001b[0m\u001b[0;34m)\u001b[0m\u001b[0;34m\u001b[0m\u001b[0;34m\u001b[0m\u001b[0m\n\u001b[0m\u001b[1;32m   4214\u001b[0m \u001b[0;34m\u001b[0m\u001b[0m\n\u001b[1;32m   4215\u001b[0m         \u001b[0;32mif\u001b[0m \u001b[0mlen\u001b[0m\u001b[0;34m(\u001b[0m\u001b[0mmapped\u001b[0m\u001b[0;34m)\u001b[0m \u001b[0;32mand\u001b[0m \u001b[0misinstance\u001b[0m\u001b[0;34m(\u001b[0m\u001b[0mmapped\u001b[0m\u001b[0;34m[\u001b[0m\u001b[0;36m0\u001b[0m\u001b[0;34m]\u001b[0m\u001b[0;34m,\u001b[0m \u001b[0mSeries\u001b[0m\u001b[0;34m)\u001b[0m\u001b[0;34m:\u001b[0m\u001b[0;34m\u001b[0m\u001b[0;34m\u001b[0m\u001b[0m\n",
            "\u001b[0;32mpandas/_libs/lib.pyx\u001b[0m in \u001b[0;36mpandas._libs.lib.map_infer\u001b[0;34m()\u001b[0m\n",
            "\u001b[0;32m/usr/local/lib/python3.7/dist-packages/pandas/core/tools/datetimes.py\u001b[0m in \u001b[0;36mto_datetime\u001b[0;34m(arg, errors, dayfirst, yearfirst, utc, format, exact, unit, infer_datetime_format, origin, cache)\u001b[0m\n\u001b[1;32m    828\u001b[0m             \u001b[0mresult\u001b[0m \u001b[0;34m=\u001b[0m \u001b[0mconvert_listlike\u001b[0m\u001b[0;34m(\u001b[0m\u001b[0marg\u001b[0m\u001b[0;34m,\u001b[0m \u001b[0mformat\u001b[0m\u001b[0;34m)\u001b[0m\u001b[0;34m\u001b[0m\u001b[0;34m\u001b[0m\u001b[0m\n\u001b[1;32m    829\u001b[0m     \u001b[0;32melse\u001b[0m\u001b[0;34m:\u001b[0m\u001b[0;34m\u001b[0m\u001b[0;34m\u001b[0m\u001b[0m\n\u001b[0;32m--> 830\u001b[0;31m         \u001b[0mresult\u001b[0m \u001b[0;34m=\u001b[0m \u001b[0mconvert_listlike\u001b[0m\u001b[0;34m(\u001b[0m\u001b[0mnp\u001b[0m\u001b[0;34m.\u001b[0m\u001b[0marray\u001b[0m\u001b[0;34m(\u001b[0m\u001b[0;34m[\u001b[0m\u001b[0marg\u001b[0m\u001b[0;34m]\u001b[0m\u001b[0;34m)\u001b[0m\u001b[0;34m,\u001b[0m \u001b[0mformat\u001b[0m\u001b[0;34m)\u001b[0m\u001b[0;34m[\u001b[0m\u001b[0;36m0\u001b[0m\u001b[0;34m]\u001b[0m\u001b[0;34m\u001b[0m\u001b[0;34m\u001b[0m\u001b[0m\n\u001b[0m\u001b[1;32m    831\u001b[0m \u001b[0;34m\u001b[0m\u001b[0m\n\u001b[1;32m    832\u001b[0m     \u001b[0;32mreturn\u001b[0m \u001b[0mresult\u001b[0m\u001b[0;34m\u001b[0m\u001b[0;34m\u001b[0m\u001b[0m\n",
            "\u001b[0;32m/usr/local/lib/python3.7/dist-packages/pandas/core/indexes/extension.py\u001b[0m in \u001b[0;36m__getitem__\u001b[0;34m(self, key)\u001b[0m\n\u001b[1;32m    221\u001b[0m \u001b[0;34m\u001b[0m\u001b[0m\n\u001b[1;32m    222\u001b[0m         \u001b[0;31m# Includes cases where we get a 2D ndarray back for MPL compat\u001b[0m\u001b[0;34m\u001b[0m\u001b[0;34m\u001b[0m\u001b[0;34m\u001b[0m\u001b[0m\n\u001b[0;32m--> 223\u001b[0;31m         \u001b[0mdeprecate_ndim_indexing\u001b[0m\u001b[0;34m(\u001b[0m\u001b[0mresult\u001b[0m\u001b[0;34m)\u001b[0m\u001b[0;34m\u001b[0m\u001b[0;34m\u001b[0m\u001b[0m\n\u001b[0m\u001b[1;32m    224\u001b[0m         \u001b[0;32mreturn\u001b[0m \u001b[0mresult\u001b[0m\u001b[0;34m\u001b[0m\u001b[0;34m\u001b[0m\u001b[0m\n\u001b[1;32m    225\u001b[0m \u001b[0;34m\u001b[0m\u001b[0m\n",
            "\u001b[0;32m/usr/local/lib/python3.7/dist-packages/pandas/core/indexers.py\u001b[0m in \u001b[0;36mdeprecate_ndim_indexing\u001b[0;34m(result, stacklevel)\u001b[0m\n\u001b[1;32m    305\u001b[0m     (Deprecation GH#30588).\n\u001b[1;32m    306\u001b[0m     \"\"\"\n\u001b[0;32m--> 307\u001b[0;31m     \u001b[0;32mif\u001b[0m \u001b[0mnp\u001b[0m\u001b[0;34m.\u001b[0m\u001b[0mndim\u001b[0m\u001b[0;34m(\u001b[0m\u001b[0mresult\u001b[0m\u001b[0;34m)\u001b[0m \u001b[0;34m>\u001b[0m \u001b[0;36m1\u001b[0m\u001b[0;34m:\u001b[0m\u001b[0;34m\u001b[0m\u001b[0;34m\u001b[0m\u001b[0m\n\u001b[0m\u001b[1;32m    308\u001b[0m         warnings.warn(\n\u001b[1;32m    309\u001b[0m             \u001b[0;34m\"Support for multi-dimensional indexing (e.g. `obj[:, None]`) \"\u001b[0m\u001b[0;34m\u001b[0m\u001b[0;34m\u001b[0m\u001b[0m\n",
            "\u001b[0;32m<__array_function__ internals>\u001b[0m in \u001b[0;36mndim\u001b[0;34m(*args, **kwargs)\u001b[0m\n",
            "\u001b[0;32m/usr/local/lib/python3.7/dist-packages/numpy/core/fromnumeric.py\u001b[0m in \u001b[0;36mndim\u001b[0;34m(a)\u001b[0m\n\u001b[1;32m   3108\u001b[0m         \u001b[0;32mreturn\u001b[0m \u001b[0ma\u001b[0m\u001b[0;34m.\u001b[0m\u001b[0mndim\u001b[0m\u001b[0;34m\u001b[0m\u001b[0;34m\u001b[0m\u001b[0m\n\u001b[1;32m   3109\u001b[0m     \u001b[0;32mexcept\u001b[0m \u001b[0mAttributeError\u001b[0m\u001b[0;34m:\u001b[0m\u001b[0;34m\u001b[0m\u001b[0;34m\u001b[0m\u001b[0m\n\u001b[0;32m-> 3110\u001b[0;31m         \u001b[0;32mreturn\u001b[0m \u001b[0masarray\u001b[0m\u001b[0;34m(\u001b[0m\u001b[0ma\u001b[0m\u001b[0;34m)\u001b[0m\u001b[0;34m.\u001b[0m\u001b[0mndim\u001b[0m\u001b[0;34m\u001b[0m\u001b[0;34m\u001b[0m\u001b[0m\n\u001b[0m\u001b[1;32m   3111\u001b[0m \u001b[0;34m\u001b[0m\u001b[0m\n\u001b[1;32m   3112\u001b[0m \u001b[0;34m\u001b[0m\u001b[0m\n",
            "\u001b[0;32m/usr/local/lib/python3.7/dist-packages/numpy/core/_asarray.py\u001b[0m in \u001b[0;36masarray\u001b[0;34m(a, dtype, order)\u001b[0m\n\u001b[1;32m     81\u001b[0m \u001b[0;34m\u001b[0m\u001b[0m\n\u001b[1;32m     82\u001b[0m     \"\"\"\n\u001b[0;32m---> 83\u001b[0;31m     \u001b[0;32mreturn\u001b[0m \u001b[0marray\u001b[0m\u001b[0;34m(\u001b[0m\u001b[0ma\u001b[0m\u001b[0;34m,\u001b[0m \u001b[0mdtype\u001b[0m\u001b[0;34m,\u001b[0m \u001b[0mcopy\u001b[0m\u001b[0;34m=\u001b[0m\u001b[0;32mFalse\u001b[0m\u001b[0;34m,\u001b[0m \u001b[0morder\u001b[0m\u001b[0;34m=\u001b[0m\u001b[0morder\u001b[0m\u001b[0;34m)\u001b[0m\u001b[0;34m\u001b[0m\u001b[0;34m\u001b[0m\u001b[0m\n\u001b[0m\u001b[1;32m     84\u001b[0m \u001b[0;34m\u001b[0m\u001b[0m\n\u001b[1;32m     85\u001b[0m \u001b[0;34m\u001b[0m\u001b[0m\n",
            "\u001b[0;31mKeyboardInterrupt\u001b[0m: "
          ]
        }
      ]
    },
    {
      "cell_type": "code",
      "metadata": {
        "id": "kRTAByj_kL2d"
      },
      "source": [
        "#coverting into the datatime objects \n",
        "df=df.assign(pickup_date=df.pickup_datetime.dt.date, pickup_Time=df.pickup_datetime.dt.time)"
      ],
      "execution_count": null,
      "outputs": []
    },
    {
      "cell_type": "code",
      "metadata": {
        "id": "hC7E-UKakT3U"
      },
      "source": [
        "#creating a copy of data \n",
        "duplicate1=df.copy()"
      ],
      "execution_count": null,
      "outputs": []
    },
    {
      "cell_type": "code",
      "metadata": {
        "id": "NXmUtVOulzSc"
      },
      "source": [
        "df.head()"
      ],
      "execution_count": null,
      "outputs": []
    },
    {
      "cell_type": "markdown",
      "metadata": {
        "id": "IKTgqD7rtFb-"
      },
      "source": [
        "***I am dropping the dropoff date if i will use it kind of bias situation***"
      ]
    },
    {
      "cell_type": "code",
      "metadata": {
        "id": "aUR6bpUpsJWb"
      },
      "source": [
        "df=df.drop('dropoff_datetime',  axis='columns')"
      ],
      "execution_count": null,
      "outputs": []
    },
    {
      "cell_type": "code",
      "metadata": {
        "id": "4YnwNl_4sT2T"
      },
      "source": [
        "df.head()"
      ],
      "execution_count": null,
      "outputs": []
    },
    {
      "cell_type": "code",
      "metadata": {
        "id": "Kmc8-ju0t5rj"
      },
      "source": [
        ""
      ],
      "execution_count": null,
      "outputs": []
    },
    {
      "cell_type": "code",
      "metadata": {
        "id": "WFAZx1Jzodwn"
      },
      "source": [
        "import datetime\n",
        "df['pickup_year'] = df['pickup_datetime'].dt.year\n",
        "df['pickup_month'] = df['pickup_datetime'].dt.month\n",
        "df['pickup_day'] = df['pickup_datetime'].dt.day\n",
        "df['pickup_hour'] = df['pickup_datetime'].dt.hour\n",
        "df['pickup_minute'] = df['pickup_datetime'].dt.minute\n",
        "df['pickup_second'] = df['pickup_datetime'].dt.second\n"
      ],
      "execution_count": null,
      "outputs": []
    },
    {
      "cell_type": "code",
      "metadata": {
        "id": "szbUa9OwuPb6"
      },
      "source": [
        "df.head()\n"
      ],
      "execution_count": null,
      "outputs": []
    },
    {
      "cell_type": "code",
      "metadata": {
        "id": "r9QJ9jO9uRWk"
      },
      "source": [
        "# Calculate what minute in a day the pickup is at\n",
        "df['pickup_minute_of_the_day'] = df.pickup_datetime.dt.hour*60 + df.pickup_datetime.dt.minute\n"
      ],
      "execution_count": null,
      "outputs": []
    },
    {
      "cell_type": "code",
      "metadata": {
        "id": "fU3cZk_99qAx"
      },
      "source": [
        "df.head()"
      ],
      "execution_count": null,
      "outputs": []
    },
    {
      "cell_type": "code",
      "metadata": {
        "id": "KPmfFrhhuwAp"
      },
      "source": [
        "df.columns"
      ],
      "execution_count": null,
      "outputs": []
    },
    {
      "cell_type": "code",
      "metadata": {
        "id": "8P4NBYgfvi2J"
      },
      "source": [
        "from sklearn.linear_model import LogisticRegression"
      ],
      "execution_count": null,
      "outputs": []
    },
    {
      "cell_type": "code",
      "metadata": {
        "id": "MRxxH3zQvtuN"
      },
      "source": [
        "y = df.trip_duration"
      ],
      "execution_count": null,
      "outputs": []
    },
    {
      "cell_type": "code",
      "metadata": {
        "id": "-tue6rsKvzaC"
      },
      "source": [
        "X = df[['haversine_dist', 'Velocity','pickup_minute_of_the_day','pickup_month', 'pickup_day']]"
      ],
      "execution_count": null,
      "outputs": []
    },
    {
      "cell_type": "code",
      "metadata": {
        "id": "xl8Ns7t8wOuL"
      },
      "source": [
        "trip_model = LinearRegression()\n",
        "trip_model.fit(X,y)"
      ],
      "execution_count": null,
      "outputs": []
    },
    {
      "cell_type": "code",
      "metadata": {
        "id": "Mxa8d2_Jwe09"
      },
      "source": [
        ""
      ],
      "execution_count": null,
      "outputs": []
    },
    {
      "cell_type": "code",
      "metadata": {
        "id": "fqynLiea6ty2"
      },
      "source": [
        "trip_model.predict(X.head())"
      ],
      "execution_count": null,
      "outputs": []
    },
    {
      "cell_type": "code",
      "metadata": {
        "id": "qRHFwQb6w5vl"
      },
      "source": [
        "from sklearn.metrics import mean_absolute_error"
      ],
      "execution_count": null,
      "outputs": []
    },
    {
      "cell_type": "code",
      "metadata": {
        "id": "lmNxR-jiw-Ih"
      },
      "source": [
        "predicted_trip = trip_model.predict(X)\n",
        "mean_absolute_error(y,predicted_trip) "
      ],
      "execution_count": null,
      "outputs": []
    },
    {
      "cell_type": "code",
      "metadata": {
        "id": "AoBMSYz_xDcD"
      },
      "source": [
        "from sklearn.model_selection import train_test_split"
      ],
      "execution_count": null,
      "outputs": []
    },
    {
      "cell_type": "code",
      "metadata": {
        "id": "aT61IIyfxVxi"
      },
      "source": [
        "train_X, test_X, train_y, test_y = train_test_split(X, y, random_state = 0)   # test or validation"
      ],
      "execution_count": null,
      "outputs": []
    },
    {
      "cell_type": "code",
      "metadata": {
        "id": "soUJiTwAxOSp"
      },
      "source": [
        "trip_model = LinearRegression()\n",
        "trip_model.fit(train_X,train_y)"
      ],
      "execution_count": null,
      "outputs": []
    },
    {
      "cell_type": "code",
      "metadata": {
        "id": "QyPuruTCxSoX"
      },
      "source": [
        "test_predictions = trip_model.predict(test_X)\n",
        "print(mean_absolute_error(test_y, test_predictions))"
      ],
      "execution_count": null,
      "outputs": []
    },
    {
      "cell_type": "code",
      "metadata": {
        "id": "1NW_EZnRxeVy"
      },
      "source": [
        ""
      ],
      "execution_count": null,
      "outputs": []
    }
  ]
}